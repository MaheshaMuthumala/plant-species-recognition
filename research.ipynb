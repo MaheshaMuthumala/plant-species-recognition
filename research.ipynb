{
  "nbformat": 4,
  "nbformat_minor": 0,
  "metadata": {
    "colab": {
      "name": "research.ipynb",
      "provenance": [],
      "collapsed_sections": []
    },
    "kernelspec": {
      "display_name": "Python 3",
      "name": "python3"
    }
  },
  "cells": [
    {
      "cell_type": "code",
      "metadata": {
        "colab": {
          "base_uri": "https://localhost:8080/"
        },
        "id": "06SfKVWF2o6a",
        "outputId": "42c6fb92-1c78-4530-b705-0e36fcf8f1e7"
      },
      "source": [
        "from google.colab import drive\r\n",
        "drive.mount(\"/content/gdrive\")"
      ],
      "execution_count": 6,
      "outputs": [
        {
          "output_type": "stream",
          "text": [
            "Mounted at /content/gdrive\n"
          ],
          "name": "stdout"
        }
      ]
    },
    {
      "cell_type": "code",
      "metadata": {
        "id": "BLREk0tA3QLd"
      },
      "source": [
        "PATH_OF_DATA = '/content/gdrive/MyDrive/images'"
      ],
      "execution_count": 7,
      "outputs": []
    },
    {
      "cell_type": "code",
      "metadata": {
        "id": "ldMBVHDg7dO7"
      },
      "source": [
        "import shutil\r\n",
        "import pandas as pd\r\n",
        "import numpy as np\r\n",
        "import os\r\n",
        "import math\r\n",
        "import tensorflow as tf \r\n",
        "from keras.callbacks import Callback\r\n",
        "from tensorflow.keras.preprocessing.image import ImageDataGenerator \r\n",
        "from tensorflow.keras import layers \r\n",
        "from tensorflow.keras import Model \r\n",
        "from tensorflow.keras.applications import ResNet50\r\n",
        "from keras.models import Sequential,Model,load_model\r\n",
        "from keras.layers import Dense, Dropout, Flatten, Conv2D, MaxPool2D,GlobalAveragePooling2D\r\n",
        "import keras.backend as K\r\n",
        "from tensorflow.keras import optimizers\r\n",
        "from tensorflow.keras.optimizers import Adam\r\n",
        "from tensorflow.python.keras.callbacks import EarlyStopping, ModelCheckpoint\r\n",
        "import sklearn.metrics as metrics\r\n",
        "import matplotlib.pyplot as plt\r\n",
        "%matplotlib inline"
      ],
      "execution_count": 8,
      "outputs": []
    },
    {
      "cell_type": "code",
      "metadata": {
        "colab": {
          "base_uri": "https://localhost:8080/"
        },
        "id": "tSg1PnzrdkND",
        "outputId": "193cdf32-e95d-4406-cf97-aee395370883"
      },
      "source": [
        "#Print the categories of plant species in the image dataset\r\n",
        "\r\n",
        "os.chdir(PATH_OF_DATA)\r\n",
        "category_list = list(filter(lambda x: os.path.isdir(x), os.listdir()))\r\n",
        "for category in category_list:\r\n",
        "  print(category)"
      ],
      "execution_count": 9,
      "outputs": [
        {
          "output_type": "stream",
          "text": [
            "Chilli\n",
            "Bitter gourd\n",
            "Lime\n",
            "Mature tea tree\n",
            "White Gigantic swallow wort\n",
            "Ground nut\n",
            "Wood-apple\n",
            "Banana pepper\n",
            "train\n",
            "test\n"
          ],
          "name": "stdout"
        }
      ]
    },
    {
      "cell_type": "markdown",
      "metadata": {
        "id": "0io0uSKMLFXP"
      },
      "source": [
        "# Creating the Dataset"
      ]
    },
    {
      "cell_type": "code",
      "metadata": {
        "id": "KD7mTDe7ecds"
      },
      "source": [
        "#create two seperate directories for train and test proportions\r\n",
        "\r\n",
        "data_set_dirs= ['train','test']\r\n",
        "for dsdirs in data_set_dirs:\r\n",
        "  path = PATH_OF_DATA + '/'+ dsdirs\r\n",
        "  os.mkdir( path,755 )"
      ],
      "execution_count": null,
      "outputs": []
    },
    {
      "cell_type": "code",
      "metadata": {
        "id": "Y3IX-KccLz5W"
      },
      "source": [
        "#Define the train proportion\r\n",
        "\r\n",
        "train_prop = 0.7"
      ],
      "execution_count": null,
      "outputs": []
    },
    {
      "cell_type": "code",
      "metadata": {
        "id": "8CKDcElJMyN1"
      },
      "source": [
        "#Create the dataset by splitting imag dataset to train and test directories\r\n",
        "\r\n",
        "def create_dataset():\r\n",
        "  for ii,cat in enumerate(category_list):    \r\n",
        "    src_path = PATH_OF_DATA + '/' + cat\r\n",
        "    dest_dir1 = PATH_OF_DATA+'/train/'+str(ii)\r\n",
        "    dest_dir2 = PATH_OF_DATA+'/test/'+str(ii)\r\n",
        "    \r\n",
        "    dest_dirs_list = [dest_dir1,dest_dir2]\r\n",
        "    for dirs in dest_dirs_list:\r\n",
        "      os.mkdir(dirs,755 )\r\n",
        "    \r\n",
        "    #get files' names list from respective directories\r\n",
        "    os.chdir(src_path)\r\n",
        "    files = [f for f in os.listdir() if os.path.isfile(f)]\r\n",
        "    \r\n",
        "    #get training, testing  files count\r\n",
        "    train_count = math.ceil(train_prop*len(files))\r\n",
        "    test_count = int((len(files)-train_count)/2)\r\n",
        "    \r\n",
        "    #get files to segragate for train,test data set\r\n",
        "    train_data_list = files[0: train_count] \r\n",
        "    test_data_list =  files[train_count+test_count:]\r\n",
        "       \r\n",
        "  \r\n",
        "    for train_data in train_data_list:\r\n",
        "      train_path = src_path + '/' + train_data\r\n",
        "      shutil.copy(train_path,dest_dir1)\r\n",
        "    \r\n",
        "    for test_data in test_data_list:\r\n",
        "      test_path = src_path + '/' + test_data\r\n",
        "      shutil.copy(test_path,dest_dir2)    \r\n",
        "    \r\n",
        "create_dataset()"
      ],
      "execution_count": null,
      "outputs": []
    },
    {
      "cell_type": "code",
      "metadata": {
        "id": "Yvi154KSM8h1"
      },
      "source": [
        "train_dir = '/content/gdrive/MyDrive/images/train'\r\n",
        "\r\n",
        "test_dir = '/content/gdrive/MyDrive/images/test'"
      ],
      "execution_count": 34,
      "outputs": []
    },
    {
      "cell_type": "code",
      "metadata": {
        "colab": {
          "base_uri": "https://localhost:8080/"
        },
        "id": "nrC5hZwhNqAC",
        "outputId": "9cd47854-d097-4667-c22d-83cdc73db746"
      },
      "source": [
        "#Apply data augmentation data generation\r\n",
        "\r\n",
        "train_datagen = ImageDataGenerator(rescale = 1./255., rotation_range = 40, width_shift_range = 0.2, height_shift_range = 0.2, \r\n",
        "                                   shear_range = 0.2, zoom_range = 0.2, horizontal_flip = True, fill_mode=\"nearest\")\r\n",
        "\r\n",
        "test_datagen = ImageDataGenerator(rescale = 1.0/255.)\r\n",
        "\r\n",
        "train_generator = train_datagen.flow_from_directory(train_dir, batch_size = 32, target_size = (224, 224), color_mode='rgb', \r\n",
        "                                                    classes=None, class_mode='categorical', shuffle=True, seed=None, interpolation=\"nearest\")\r\n",
        "\r\n",
        "test_generator = test_datagen.flow_from_directory( test_dir, batch_size = 32, target_size = (224, 224))\r\n",
        "\r\n",
        "test_steps_per_epoch = np.math.ceil(test_generator.samples / test_generator.batch_size)\r\n"
      ],
      "execution_count": 35,
      "outputs": [
        {
          "output_type": "stream",
          "text": [
            "Found 211 images belonging to 8 classes.\n",
            "Found 43 images belonging to 8 classes.\n"
          ],
          "name": "stdout"
        }
      ]
    },
    {
      "cell_type": "code",
      "metadata": {
        "colab": {
          "base_uri": "https://localhost:8080/"
        },
        "id": "WCkqTFtjAC1h",
        "outputId": "4ec33064-b711-4f8e-dd05-bf6aaa48c23b"
      },
      "source": [
        "len(train_generator), len(test_generator)"
      ],
      "execution_count": null,
      "outputs": [
        {
          "output_type": "execute_result",
          "data": {
            "text/plain": [
              "(7, 2)"
            ]
          },
          "metadata": {
            "tags": []
          },
          "execution_count": 7
        }
      ]
    },
    {
      "cell_type": "markdown",
      "metadata": {
        "id": "8LH256huLsUp"
      },
      "source": [
        "# Creating the Model"
      ]
    },
    {
      "cell_type": "code",
      "metadata": {
        "id": "T2VGsRPuNsBL"
      },
      "source": [
        "#load the ResNet50 base model without including the top of the network\r\n",
        "\r\n",
        "base_model = ResNet50(input_shape=(224, 224,3), include_top=False, weights=\"imagenet\")"
      ],
      "execution_count": 36,
      "outputs": []
    },
    {
      "cell_type": "code",
      "metadata": {
        "id": "GgWsKIy6QBfr"
      },
      "source": [
        "#Load the weights for the base model\r\n",
        "\r\n",
        "base_model.load_weights(\"/content/gdrive/My Drive/resnet50_weights_tf_dim_ordering_tf_kernels_notop.h5\")"
      ],
      "execution_count": 37,
      "outputs": []
    },
    {
      "cell_type": "code",
      "metadata": {
        "id": "v-vNx7raJ98W"
      },
      "source": [
        "#Freeze the layers of the base model\r\n",
        "\r\n",
        "for layer in base_model.layers:\r\n",
        "    layer.trainable = False"
      ],
      "execution_count": 38,
      "outputs": []
    },
    {
      "cell_type": "code",
      "metadata": {
        "id": "l1jz-7m4XlG4"
      },
      "source": [
        "num_classes = 8"
      ],
      "execution_count": 39,
      "outputs": []
    },
    {
      "cell_type": "code",
      "metadata": {
        "id": "IyPuniRkvscy"
      },
      "source": [
        "#Define a method to calculate the recall\r\n",
        "\r\n",
        "def recall_m(y_true, y_pred):\r\n",
        "     true_positives = K.sum(K.round(K.clip(y_true * y_pred, 0, 1)))\r\n",
        "     possible_positives = K.sum(K.round(K.clip(y_true, 0, 1)))\r\n",
        "     recall = true_positives / (possible_positives + K.epsilon())\r\n",
        "     return recall"
      ],
      "execution_count": 40,
      "outputs": []
    },
    {
      "cell_type": "code",
      "metadata": {
        "id": "G33PtUYxvzMz"
      },
      "source": [
        "#Define a method to calculate precision\r\n",
        "\r\n",
        "def precision_m(y_true, y_pred):\r\n",
        "    true_positives = K.sum(K.round(K.clip(y_true * y_pred, 0, 1)))\r\n",
        "    predicted_positives = K.sum(K.round(K.clip(y_pred, 0, 1)))\r\n",
        "    precision = true_positives / (predicted_positives + K.epsilon())\r\n",
        "    return precision"
      ],
      "execution_count": 41,
      "outputs": []
    },
    {
      "cell_type": "code",
      "metadata": {
        "id": "u4Pq6T0ae16j"
      },
      "source": [
        "#Define a methid to calculate F1-Score\r\n",
        "\r\n",
        "def f1_m(y_true, y_pred):\r\n",
        "    precision = precision_m(y_true, y_pred)\r\n",
        "    recall = recall_m(y_true, y_pred)\r\n",
        "    return 2*((precision*recall)/(precision+recall+K.epsilon()))"
      ],
      "execution_count": 42,
      "outputs": []
    },
    {
      "cell_type": "code",
      "metadata": {
        "id": "t4Nmn-YYX9HY"
      },
      "source": [
        "#Define the head model for the ResNet 50 deep neural network\r\n",
        "\r\n",
        "head_model = base_model.output\r\n",
        "head_model = GlobalAveragePooling2D()(head_model)\r\n",
        "head_model = Flatten(name=\"flatten\")(head_model)\r\n",
        "head_model = Dense(256, activation=\"relu\")(head_model)\r\n",
        "head_model = Dropout(0.5)(head_model)\r\n",
        "predictions = Dense(num_classes, activation= 'softmax')(head_model)\r\n",
        "model = Model(inputs = base_model.input, outputs = predictions)"
      ],
      "execution_count": 44,
      "outputs": []
    },
    {
      "cell_type": "code",
      "metadata": {
        "id": "KIb8z4betP0W"
      },
      "source": [
        "#Create and define LRFinder class to analyze the learning rate of the model\r\n",
        "\r\n",
        "class LRFinder(Callback):\r\n",
        "  def __init__(self, min_lr=1e-5, max_lr=1e-2, steps_per_epoch=None, epochs=None):\r\n",
        "        super().__init__()\r\n",
        "        \r\n",
        "        self.min_lr = min_lr\r\n",
        "        self.max_lr = max_lr\r\n",
        "        self.total_iterations = steps_per_epoch * epochs\r\n",
        "        self.iteration = 0\r\n",
        "        self.history = {}\r\n",
        "        \r\n",
        "  def clr(self):\r\n",
        "        x = self.iteration / self.total_iterations \r\n",
        "        return self.min_lr + (self.max_lr-self.min_lr) * x\r\n",
        "        \r\n",
        "  def on_train_begin(self, logs=None):\r\n",
        "        logs = logs or {}\r\n",
        "        K.set_value(self.model.optimizer.lr, self.min_lr)\r\n",
        "        \r\n",
        "  def on_batch_end(self, epoch, logs=None):\r\n",
        "        logs = logs or {}\r\n",
        "        self.iteration += 1\r\n",
        "\r\n",
        "        self.history.setdefault('lr', []).append(K.get_value(self.model.optimizer.lr))\r\n",
        "        self.history.setdefault('iterations', []).append(self.iteration)\r\n",
        "\r\n",
        "        for k, v in logs.items():\r\n",
        "            self.history.setdefault(k, []).append(v)\r\n",
        "            \r\n",
        "        K.set_value(self.model.optimizer.lr, self.clr())\r\n",
        " \r\n",
        "  def plot_lr(self):\r\n",
        "        plt.plot(self.history['iterations'], self.history['lr'])\r\n",
        "        plt.yscale('log')\r\n",
        "        plt.xlabel('Iteration')\r\n",
        "        plt.ylabel('Learning rate')\r\n",
        "        plt.show()\r\n",
        "        \r\n",
        "  def plot_loss(self):\r\n",
        "        plt.plot(self.history['lr'], self.history['loss'])\r\n",
        "        plt.xscale('log')\r\n",
        "        plt.xlabel('Learning rate')\r\n",
        "        plt.ylabel('Loss')\r\n",
        "        plt.show()"
      ],
      "execution_count": 22,
      "outputs": []
    },
    {
      "cell_type": "code",
      "metadata": {
        "id": "jACVIY2Hxv5R"
      },
      "source": [
        "epoch_size = 25\r\n",
        "batch_size = 32"
      ],
      "execution_count": 45,
      "outputs": []
    },
    {
      "cell_type": "code",
      "metadata": {
        "id": "mOFiLZA2t2zi"
      },
      "source": [
        "#Define the lr_finder with minimum and maximum learning rates\r\n",
        "\r\n",
        "lr_finder = LRFinder(min_lr=1e-5, max_lr=1e-2, steps_per_epoch=np.ceil(epoch_size/batch_size), epochs=3)"
      ],
      "execution_count": 24,
      "outputs": []
    },
    {
      "cell_type": "code",
      "metadata": {
        "id": "-ne6wx2I7SqB"
      },
      "source": [
        "#Define the Adam optimizer\r\n",
        "\r\n",
        "opt = Adam(lr = 1e-3, decay = 1e-3/20)"
      ],
      "execution_count": 46,
      "outputs": []
    },
    {
      "cell_type": "code",
      "metadata": {
        "id": "Vw019JU7J2F7"
      },
      "source": [
        "#Define the Stochastic Gradient descent (SGD) optimizer\r\n",
        "\r\n",
        "sgd = optimizers.SGD(lr = 0.01, decay = 1e-6, momentum = 0.9, nesterov = True)"
      ],
      "execution_count": null,
      "outputs": []
    },
    {
      "cell_type": "code",
      "metadata": {
        "id": "HXJT3agLkcrp"
      },
      "source": [
        "#Compile the model\r\n",
        "\r\n",
        "model.compile(optimizer = opt, loss = 'categorical_crossentropy', metrics = ['acc', f1_m, precision_m, recall_m])"
      ],
      "execution_count": 47,
      "outputs": []
    },
    {
      "cell_type": "code",
      "metadata": {
        "id": "KG8CKdTPA_eu"
      },
      "source": [
        "#Define an early stopper and a check pointer for the model\r\n",
        "\r\n",
        "cb_early_stopper = EarlyStopping(monitor = 'val_loss', patience = 15)\r\n",
        "cb_checkpointer = ModelCheckpoint(filepath = '/content/gdrive/My Drive/best.hdf5', monitor = 'val_loss', save_best_only = True, mode = 'auto')"
      ],
      "execution_count": 48,
      "outputs": []
    },
    {
      "cell_type": "code",
      "metadata": {
        "colab": {
          "base_uri": "https://localhost:8080/"
        },
        "id": "iifUC6Y_smbS",
        "outputId": "0fd2a010-ec5e-4366-94ce-3312f77b4bf3"
      },
      "source": [
        "#Train the model\r\n",
        "\r\n",
        "resnet_history = model.fit(train_generator, validation_data = test_generator, epochs = 25, \r\n",
        "                           steps_per_epoch=train_generator.samples/train_generator.batch_size,\r\n",
        "                           validation_steps=test_generator.samples/test_generator.batch_size,\r\n",
        "                           callbacks=[cb_checkpointer, cb_early_stopper])\r\n",
        "\r\n",
        "model.load_weights(\"/content/gdrive/My Drive/best.hdf5\")"
      ],
      "execution_count": 49,
      "outputs": [
        {
          "output_type": "stream",
          "text": [
            "Epoch 1/25\n",
            "6/6 [==============================] - 100s 15s/step - loss: 2.5015 - acc: 0.1485 - f1_m: 0.0427 - precision_m: 0.2285 - recall_m: 0.0243 - val_loss: 1.9621 - val_acc: 0.3256 - val_f1_m: 0.0000e+00 - val_precision_m: 0.0000e+00 - val_recall_m: 0.0000e+00\n",
            "Epoch 2/25\n",
            "6/6 [==============================] - 88s 13s/step - loss: 2.1023 - acc: 0.2337 - f1_m: 0.0392 - precision_m: 0.2791 - recall_m: 0.0214 - val_loss: 1.8644 - val_acc: 0.4651 - val_f1_m: 0.0000e+00 - val_precision_m: 0.0000e+00 - val_recall_m: 0.0000e+00\n",
            "Epoch 3/25\n",
            "6/6 [==============================] - 87s 14s/step - loss: 1.9771 - acc: 0.2418 - f1_m: 0.0611 - precision_m: 0.6580 - recall_m: 0.0322 - val_loss: 1.8123 - val_acc: 0.3256 - val_f1_m: 0.1944 - val_precision_m: 1.0000 - val_recall_m: 0.1080\n",
            "Epoch 4/25\n",
            "6/6 [==============================] - 88s 13s/step - loss: 1.8608 - acc: 0.2789 - f1_m: 0.0886 - precision_m: 0.7444 - recall_m: 0.0489 - val_loss: 1.7542 - val_acc: 0.4186 - val_f1_m: 0.3111 - val_precision_m: 0.8750 - val_recall_m: 0.1989\n",
            "Epoch 5/25\n",
            "6/6 [==============================] - 87s 13s/step - loss: 1.8137 - acc: 0.3512 - f1_m: 0.1104 - precision_m: 0.7830 - recall_m: 0.0600 - val_loss: 1.7088 - val_acc: 0.3488 - val_f1_m: 0.3111 - val_precision_m: 0.8750 - val_recall_m: 0.1989\n",
            "Epoch 6/25\n",
            "6/6 [==============================] - 88s 13s/step - loss: 1.7172 - acc: 0.3365 - f1_m: 0.2275 - precision_m: 0.8094 - recall_m: 0.1332 - val_loss: 1.6880 - val_acc: 0.3256 - val_f1_m: 0.3500 - val_precision_m: 0.8750 - val_recall_m: 0.2287\n",
            "Epoch 7/25\n",
            "6/6 [==============================] - 87s 13s/step - loss: 1.7544 - acc: 0.3648 - f1_m: 0.2432 - precision_m: 0.8907 - recall_m: 0.1413 - val_loss: 1.6697 - val_acc: 0.3953 - val_f1_m: 0.3224 - val_precision_m: 0.9000 - val_recall_m: 0.1989\n",
            "Epoch 8/25\n",
            "6/6 [==============================] - 94s 14s/step - loss: 1.6986 - acc: 0.3610 - f1_m: 0.1848 - precision_m: 1.0000 - recall_m: 0.1055 - val_loss: 1.6504 - val_acc: 0.5116 - val_f1_m: 0.2372 - val_precision_m: 0.9286 - val_recall_m: 0.1392\n",
            "Epoch 9/25\n",
            "6/6 [==============================] - 87s 14s/step - loss: 1.7224 - acc: 0.3370 - f1_m: 0.2425 - precision_m: 0.9080 - recall_m: 0.1404 - val_loss: 1.6573 - val_acc: 0.4651 - val_f1_m: 0.2780 - val_precision_m: 0.8333 - val_recall_m: 0.1690\n",
            "Epoch 10/25\n",
            "6/6 [==============================] - 86s 13s/step - loss: 1.7105 - acc: 0.3211 - f1_m: 0.1963 - precision_m: 0.7055 - recall_m: 0.1149 - val_loss: 1.6229 - val_acc: 0.3256 - val_f1_m: 0.2780 - val_precision_m: 0.8333 - val_recall_m: 0.1690\n",
            "Epoch 11/25\n",
            "6/6 [==============================] - 87s 13s/step - loss: 1.6334 - acc: 0.4115 - f1_m: 0.2461 - precision_m: 0.8113 - recall_m: 0.1481 - val_loss: 1.6219 - val_acc: 0.4419 - val_f1_m: 0.2348 - val_precision_m: 0.7500 - val_recall_m: 0.1392\n",
            "Epoch 12/25\n",
            "6/6 [==============================] - 87s 13s/step - loss: 1.6122 - acc: 0.4328 - f1_m: 0.2234 - precision_m: 0.9507 - recall_m: 0.1298 - val_loss: 1.6009 - val_acc: 0.4651 - val_f1_m: 0.2348 - val_precision_m: 0.7500 - val_recall_m: 0.1392\n",
            "Epoch 13/25\n",
            "6/6 [==============================] - 86s 13s/step - loss: 1.6361 - acc: 0.4002 - f1_m: 0.2253 - precision_m: 0.9153 - recall_m: 0.1327 - val_loss: 1.5871 - val_acc: 0.4884 - val_f1_m: 0.3357 - val_precision_m: 0.9000 - val_recall_m: 0.2287\n",
            "Epoch 14/25\n",
            "6/6 [==============================] - 86s 13s/step - loss: 1.6321 - acc: 0.3831 - f1_m: 0.2496 - precision_m: 0.8371 - recall_m: 0.1497 - val_loss: 1.5803 - val_acc: 0.5814 - val_f1_m: 0.1750 - val_precision_m: 0.4375 - val_recall_m: 0.1094\n",
            "Epoch 15/25\n",
            "6/6 [==============================] - 87s 13s/step - loss: 1.6032 - acc: 0.4044 - f1_m: 0.2701 - precision_m: 0.9507 - recall_m: 0.1611 - val_loss: 1.5682 - val_acc: 0.3953 - val_f1_m: 0.2854 - val_precision_m: 0.9167 - val_recall_m: 0.1690\n",
            "Epoch 16/25\n",
            "6/6 [==============================] - 87s 14s/step - loss: 1.6282 - acc: 0.3611 - f1_m: 0.2422 - precision_m: 0.8858 - recall_m: 0.1430 - val_loss: 1.5617 - val_acc: 0.4651 - val_f1_m: 0.1750 - val_precision_m: 0.4375 - val_recall_m: 0.1094\n",
            "Epoch 17/25\n",
            "6/6 [==============================] - 86s 13s/step - loss: 1.6192 - acc: 0.3607 - f1_m: 0.2325 - precision_m: 0.9561 - recall_m: 0.1340 - val_loss: 1.5807 - val_acc: 0.3721 - val_f1_m: 0.3224 - val_precision_m: 0.9000 - val_recall_m: 0.1989\n",
            "Epoch 18/25\n",
            "6/6 [==============================] - 87s 13s/step - loss: 1.5452 - acc: 0.4139 - f1_m: 0.2818 - precision_m: 0.8595 - recall_m: 0.1707 - val_loss: 1.5374 - val_acc: 0.5116 - val_f1_m: 0.2372 - val_precision_m: 0.9286 - val_recall_m: 0.1392\n",
            "Epoch 19/25\n",
            "6/6 [==============================] - 93s 14s/step - loss: 1.6223 - acc: 0.3752 - f1_m: 0.2095 - precision_m: 0.8706 - recall_m: 0.1214 - val_loss: 1.5268 - val_acc: 0.5116 - val_f1_m: 0.3224 - val_precision_m: 0.9000 - val_recall_m: 0.1989\n",
            "Epoch 20/25\n",
            "6/6 [==============================] - 87s 13s/step - loss: 1.6488 - acc: 0.3975 - f1_m: 0.1852 - precision_m: 0.7607 - recall_m: 0.1077 - val_loss: 1.5479 - val_acc: 0.3721 - val_f1_m: 0.3696 - val_precision_m: 0.8333 - val_recall_m: 0.2585\n",
            "Epoch 21/25\n",
            "6/6 [==============================] - 86s 13s/step - loss: 1.6102 - acc: 0.3717 - f1_m: 0.2462 - precision_m: 0.8525 - recall_m: 0.1445 - val_loss: 1.5258 - val_acc: 0.5116 - val_f1_m: 0.2372 - val_precision_m: 0.9286 - val_recall_m: 0.1392\n",
            "Epoch 22/25\n",
            "6/6 [==============================] - 86s 13s/step - loss: 1.6122 - acc: 0.3858 - f1_m: 0.2392 - precision_m: 0.9704 - recall_m: 0.1389 - val_loss: 1.5298 - val_acc: 0.5814 - val_f1_m: 0.3111 - val_precision_m: 0.8750 - val_recall_m: 0.1989\n",
            "Epoch 23/25\n",
            "6/6 [==============================] - 86s 13s/step - loss: 1.4950 - acc: 0.4561 - f1_m: 0.2964 - precision_m: 0.8226 - recall_m: 0.1827 - val_loss: 1.5047 - val_acc: 0.5116 - val_f1_m: 0.2372 - val_precision_m: 0.9286 - val_recall_m: 0.1392\n",
            "Epoch 24/25\n",
            "6/6 [==============================] - 87s 14s/step - loss: 1.6550 - acc: 0.3838 - f1_m: 0.2402 - precision_m: 0.8557 - recall_m: 0.1405 - val_loss: 1.5077 - val_acc: 0.4419 - val_f1_m: 0.2854 - val_precision_m: 0.9167 - val_recall_m: 0.1690\n",
            "Epoch 25/25\n",
            "6/6 [==============================] - 86s 13s/step - loss: 1.5836 - acc: 0.3973 - f1_m: 0.2063 - precision_m: 0.8799 - recall_m: 0.1197 - val_loss: 1.5168 - val_acc: 0.3721 - val_f1_m: 0.2372 - val_precision_m: 0.9286 - val_recall_m: 0.1392\n"
          ],
          "name": "stdout"
        }
      ]
    },
    {
      "cell_type": "markdown",
      "metadata": {
        "id": "QELM-T-dL3Xu"
      },
      "source": [
        "# Model Evalution "
      ]
    },
    {
      "cell_type": "code",
      "metadata": {
        "colab": {
          "base_uri": "https://localhost:8080/"
        },
        "id": "SRUCBFa247_K",
        "outputId": "f2c10caf-b717-4ef7-f03b-591b0030bda2"
      },
      "source": [
        "#Evaluate the model with test data\r\n",
        "\r\n",
        "model.evaluate_generator(test_generator)"
      ],
      "execution_count": 50,
      "outputs": [
        {
          "output_type": "stream",
          "text": [
            "/usr/local/lib/python3.7/dist-packages/tensorflow/python/keras/engine/training.py:1877: UserWarning: `Model.evaluate_generator` is deprecated and will be removed in a future version. Please use `Model.evaluate`, which supports generators.\n",
            "  warnings.warn('`Model.evaluate_generator` is deprecated and '\n"
          ],
          "name": "stderr"
        },
        {
          "output_type": "execute_result",
          "data": {
            "text/plain": [
              "[1.5046688318252563,\n",
              " 0.5116279125213623,\n",
              " 0.2371794730424881,\n",
              " 0.928571343421936,\n",
              " 0.13920454680919647]"
            ]
          },
          "metadata": {
            "tags": []
          },
          "execution_count": 50
        }
      ]
    },
    {
      "cell_type": "code",
      "metadata": {
        "colab": {
          "base_uri": "https://localhost:8080/",
          "height": 283
        },
        "id": "twBnJvPjvjU7",
        "outputId": "5b58e684-5154-465d-939a-f4861ffd3d44"
      },
      "source": [
        "lr_finder.plot_loss()"
      ],
      "execution_count": 30,
      "outputs": [
        {
          "output_type": "display_data",
          "data": {
            "image/png": "[encoded data removed]",
            "text/plain": [
              "<Figure size 432x288 with 1 Axes>"
            ]
          },
          "metadata": {
            "tags": [],
            "needs_background": "light"
          }
        }
      ]
    },
    {
      "cell_type": "code",
      "metadata": {
        "colab": {
          "base_uri": "https://localhost:8080/",
          "height": 279
        },
        "id": "zVg_W44l3w-3",
        "outputId": "c785acbc-a87d-417e-80a0-5f315763621a"
      },
      "source": [
        "lr_finder.plot_lr()"
      ],
      "execution_count": 31,
      "outputs": [
        {
          "output_type": "display_data",
          "data": {
            "image/png": "[encoded data removed]",
            "text/plain": [
              "<Figure size 432x288 with 1 Axes>"
            ]
          },
          "metadata": {
            "tags": [],
            "needs_background": "light"
          }
        }
      ]
    },
    {
      "cell_type": "code",
      "metadata": {
        "colab": {
          "base_uri": "https://localhost:8080/"
        },
        "id": "O4HdCIucxa8I",
        "outputId": "61b90204-8a78-40c8-cf53-c2b448c5dd84"
      },
      "source": [
        "predictions = model.predict_generator(test_generator, steps=test_steps_per_epoch)\r\n",
        "# Get most likely class\r\n",
        "predicted_classes = np.argmax(predictions, axis=1)"
      ],
      "execution_count": 51,
      "outputs": [
        {
          "output_type": "stream",
          "text": [
            "/usr/local/lib/python3.7/dist-packages/tensorflow/python/keras/engine/training.py:1905: UserWarning: `Model.predict_generator` is deprecated and will be removed in a future version. Please use `Model.predict`, which supports generators.\n",
            "  warnings.warn('`Model.predict_generator` is deprecated and '\n"
          ],
          "name": "stderr"
        }
      ]
    },
    {
      "cell_type": "code",
      "metadata": {
        "id": "FzZyS-LRxlJk"
      },
      "source": [
        "true_classes = test_generator.classes\r\n",
        "class_labels = list(test_generator.class_indices.keys())"
      ],
      "execution_count": 52,
      "outputs": []
    },
    {
      "cell_type": "code",
      "metadata": {
        "colab": {
          "base_uri": "https://localhost:8080/"
        },
        "id": "thY9IP02xtjy",
        "outputId": "0f1d56e4-1e79-4a52-e546-e272651d1c50"
      },
      "source": [
        "#Print a report of the metrics\r\n",
        "\r\n",
        "\r\n",
        "report = metrics.classification_report(true_classes, predicted_classes, target_names=class_labels)\r\n",
        "print(report) "
      ],
      "execution_count": 53,
      "outputs": [
        {
          "output_type": "stream",
          "text": [
            "              precision    recall  f1-score   support\n",
            "\n",
            "           0       0.00      0.00      0.00         3\n",
            "           1       0.15      0.29      0.20         7\n",
            "           2       0.00      0.00      0.00         5\n",
            "           3       0.00      0.00      0.00         5\n",
            "           4       0.00      0.00      0.00         5\n",
            "           5       0.00      0.00      0.00         5\n",
            "           6       0.25      0.29      0.27         7\n",
            "           7       0.10      0.33      0.15         6\n",
            "\n",
            "    accuracy                           0.14        43\n",
            "   macro avg       0.06      0.11      0.08        43\n",
            "weighted avg       0.08      0.14      0.10        43\n",
            "\n"
          ],
          "name": "stdout"
        },
        {
          "output_type": "stream",
          "text": [
            "/usr/local/lib/python3.7/dist-packages/sklearn/metrics/_classification.py:1272: UndefinedMetricWarning: Precision and F-score are ill-defined and being set to 0.0 in labels with no predicted samples. Use `zero_division` parameter to control this behavior.\n",
            "  _warn_prf(average, modifier, msg_start, len(result))\n"
          ],
          "name": "stderr"
        }
      ]
    },
    {
      "cell_type": "code",
      "metadata": {
        "colab": {
          "base_uri": "https://localhost:8080/",
          "height": 276
        },
        "id": "5k6C0ieOKN-3",
        "outputId": "deee46a6-a759-4715-db67-a025a27d4637"
      },
      "source": [
        "plt.figure(1, figsize = (15,8)) \r\n",
        "    \r\n",
        "plt.subplot(221)  \r\n",
        "plt.plot(resnet_history.history['acc'])  \r\n",
        "plt.plot(resnet_history.history['val_acc'])  \r\n",
        "plt.title('model accuracy')  \r\n",
        "plt.ylabel('accuracy')  \r\n",
        "plt.xlabel('epoch')  \r\n",
        "plt.legend(['train', 'test']) \r\n",
        "    \r\n",
        "plt.subplot(222)  \r\n",
        "plt.plot(resnet_history.history['loss'])  \r\n",
        "plt.plot(resnet_history.history['val_loss'])  \r\n",
        "plt.title('model loss')  \r\n",
        "plt.ylabel('loss')  \r\n",
        "plt.xlabel('epoch')  \r\n",
        "plt.legend(['train', 'test']) \r\n",
        "\r\n",
        "plt.show()"
      ],
      "execution_count": 54,
      "outputs": [
        {
          "output_type": "display_data",
          "data": {
            "image/png": "[encoded data removed]",
            "text/plain": [
              "<Figure size 1080x576 with 2 Axes>"
            ]
          },
          "metadata": {
            "tags": [],
            "needs_background": "light"
          }
        }
      ]
    },
    {
      "cell_type": "code",
      "metadata": {
        "colab": {
          "base_uri": "https://localhost:8080/",
          "height": 293
        },
        "id": "TCjCOQNWrOAS",
        "outputId": "d48bd661-7d6f-44e1-d436-7cc473a316ee"
      },
      "source": [
        "plt.figure(1, figsize = (15,8)) \r\n",
        "    \r\n",
        "plt.subplot(221)  \r\n",
        "plt.plot(resnet_history.history['precision_m'])  \r\n",
        "plt.plot(resnet_history.history['val_precision_m'])  \r\n",
        "plt.title('model precision')  \r\n",
        "plt.ylabel('precision')  \r\n",
        "plt.xlabel('epoch')  \r\n",
        "plt.legend(['train', 'test']) \r\n",
        "\r\n",
        "plt.subplot(222)  \r\n",
        "plt.plot(resnet_history.history['recall_m'])  \r\n",
        "plt.plot(resnet_history.history['val_recall_m'])  \r\n",
        "plt.title('model recall')  \r\n",
        "plt.ylabel('recall')  \r\n",
        "plt.xlabel('epoch')  \r\n",
        "plt.legend(['train', 'test']) "
      ],
      "execution_count": 55,
      "outputs": [
        {
          "output_type": "execute_result",
          "data": {
            "text/plain": [
              "<matplotlib.legend.Legend at 0x7fce235a5bd0>"
            ]
          },
          "metadata": {
            "tags": []
          },
          "execution_count": 55
        },
        {
          "output_type": "display_data",
          "data": {
            "image/png": "[encoded data removed]",
            "text/plain": [
              "<Figure size 1080x576 with 2 Axes>"
            ]
          },
          "metadata": {
            "tags": [],
            "needs_background": "light"
          }
        }
      ]
    },
    {
      "cell_type": "code",
      "metadata": {
        "colab": {
          "base_uri": "https://localhost:8080/",
          "height": 293
        },
        "id": "HgKQFWdFsSqz",
        "outputId": "9f8f3695-c83d-4435-a3e2-c492da78c1f5"
      },
      "source": [
        "plt.figure(1, figsize = (15,8)) \r\n",
        "    \r\n",
        "plt.subplot(221)  \r\n",
        "plt.plot(resnet_history.history['f1_m'])  \r\n",
        "plt.plot(resnet_history.history['val_f1_m'])  \r\n",
        "plt.title('model f1 score')  \r\n",
        "plt.ylabel('f1 score')  \r\n",
        "plt.xlabel('epoch')  \r\n",
        "plt.legend(['train', 'test'])"
      ],
      "execution_count": 56,
      "outputs": [
        {
          "output_type": "execute_result",
          "data": {
            "text/plain": [
              "<matplotlib.legend.Legend at 0x7fce23490b50>"
            ]
          },
          "metadata": {
            "tags": []
          },
          "execution_count": 56
        },
        {
          "output_type": "display_data",
          "data": {
            "image/png": "[encoded data removed]",
            "text/plain": [
              "<Figure size 1080x576 with 1 Axes>"
            ]
          },
          "metadata": {
            "tags": [],
            "needs_background": "light"
          }
        }
      ]
    },
    {
      "cell_type": "code",
      "metadata": {
        "colab": {
          "base_uri": "https://localhost:8080/"
        },
        "id": "eoRKEN6k8S-_",
        "outputId": "5eca8928-735a-4b8b-fe82-39cb740ad3f9"
      },
      "source": [
        "model.summary()"
      ],
      "execution_count": 57,
      "outputs": [
        {
          "output_type": "stream",
          "text": [
            "Model: \"model_1\"\n",
            "__________________________________________________________________________________________________\n",
            "Layer (type)                    Output Shape         Param #     Connected to                     \n",
            "==================================================================================================\n",
            "input_2 (InputLayer)            [(None, 224, 224, 3) 0                                            \n",
            "__________________________________________________________________________________________________\n",
            "conv1_pad (ZeroPadding2D)       (None, 230, 230, 3)  0           input_2[0][0]                    \n",
            "__________________________________________________________________________________________________\n",
            "conv1_conv (Conv2D)             (None, 112, 112, 64) 9472        conv1_pad[0][0]                  \n",
            "__________________________________________________________________________________________________\n",
            "conv1_bn (BatchNormalization)   (None, 112, 112, 64) 256         conv1_conv[0][0]                 \n",
            "__________________________________________________________________________________________________\n",
            "conv1_relu (Activation)         (None, 112, 112, 64) 0           conv1_bn[0][0]                   \n",
            "__________________________________________________________________________________________________\n",
            "pool1_pad (ZeroPadding2D)       (None, 114, 114, 64) 0           conv1_relu[0][0]                 \n",
            "__________________________________________________________________________________________________\n",
            "pool1_pool (MaxPooling2D)       (None, 56, 56, 64)   0           pool1_pad[0][0]                  \n",
            "__________________________________________________________________________________________________\n",
            "conv2_block1_1_conv (Conv2D)    (None, 56, 56, 64)   4160        pool1_pool[0][0]                 \n",
            "__________________________________________________________________________________________________\n",
            "conv2_block1_1_bn (BatchNormali (None, 56, 56, 64)   256         conv2_block1_1_conv[0][0]        \n",
            "__________________________________________________________________________________________________\n",
            "conv2_block1_1_relu (Activation (None, 56, 56, 64)   0           conv2_block1_1_bn[0][0]          \n",
            "__________________________________________________________________________________________________\n",
            "conv2_block1_2_conv (Conv2D)    (None, 56, 56, 64)   36928       conv2_block1_1_relu[0][0]        \n",
            "__________________________________________________________________________________________________\n",
            "conv2_block1_2_bn (BatchNormali (None, 56, 56, 64)   256         conv2_block1_2_conv[0][0]        \n",
            "__________________________________________________________________________________________________\n",
            "conv2_block1_2_relu (Activation (None, 56, 56, 64)   0           conv2_block1_2_bn[0][0]          \n",
            "__________________________________________________________________________________________________\n",
            "conv2_block1_0_conv (Conv2D)    (None, 56, 56, 256)  16640       pool1_pool[0][0]                 \n",
            "__________________________________________________________________________________________________\n",
            "conv2_block1_3_conv (Conv2D)    (None, 56, 56, 256)  16640       conv2_block1_2_relu[0][0]        \n",
            "__________________________________________________________________________________________________\n",
            "conv2_block1_0_bn (BatchNormali (None, 56, 56, 256)  1024        conv2_block1_0_conv[0][0]        \n",
            "__________________________________________________________________________________________________\n",
            "conv2_block1_3_bn (BatchNormali (None, 56, 56, 256)  1024        conv2_block1_3_conv[0][0]        \n",
            "__________________________________________________________________________________________________\n",
            "conv2_block1_add (Add)          (None, 56, 56, 256)  0           conv2_block1_0_bn[0][0]          \n",
            "                                                                 conv2_block1_3_bn[0][0]          \n",
            "__________________________________________________________________________________________________\n",
            "conv2_block1_out (Activation)   (None, 56, 56, 256)  0           conv2_block1_add[0][0]           \n",
            "__________________________________________________________________________________________________\n",
            "conv2_block2_1_conv (Conv2D)    (None, 56, 56, 64)   16448       conv2_block1_out[0][0]           \n",
            "__________________________________________________________________________________________________\n",
            "conv2_block2_1_bn (BatchNormali (None, 56, 56, 64)   256         conv2_block2_1_conv[0][0]        \n",
            "__________________________________________________________________________________________________\n",
            "conv2_block2_1_relu (Activation (None, 56, 56, 64)   0           conv2_block2_1_bn[0][0]          \n",
            "__________________________________________________________________________________________________\n",
            "conv2_block2_2_conv (Conv2D)    (None, 56, 56, 64)   36928       conv2_block2_1_relu[0][0]        \n",
            "__________________________________________________________________________________________________\n",
            "conv2_block2_2_bn (BatchNormali (None, 56, 56, 64)   256         conv2_block2_2_conv[0][0]        \n",
            "__________________________________________________________________________________________________\n",
            "conv2_block2_2_relu (Activation (None, 56, 56, 64)   0           conv2_block2_2_bn[0][0]          \n",
            "__________________________________________________________________________________________________\n",
            "conv2_block2_3_conv (Conv2D)    (None, 56, 56, 256)  16640       conv2_block2_2_relu[0][0]        \n",
            "__________________________________________________________________________________________________\n",
            "conv2_block2_3_bn (BatchNormali (None, 56, 56, 256)  1024        conv2_block2_3_conv[0][0]        \n",
            "__________________________________________________________________________________________________\n",
            "conv2_block2_add (Add)          (None, 56, 56, 256)  0           conv2_block1_out[0][0]           \n",
            "                                                                 conv2_block2_3_bn[0][0]          \n",
            "__________________________________________________________________________________________________\n",
            "conv2_block2_out (Activation)   (None, 56, 56, 256)  0           conv2_block2_add[0][0]           \n",
            "__________________________________________________________________________________________________\n",
            "conv2_block3_1_conv (Conv2D)    (None, 56, 56, 64)   16448       conv2_block2_out[0][0]           \n",
            "__________________________________________________________________________________________________\n",
            "conv2_block3_1_bn (BatchNormali (None, 56, 56, 64)   256         conv2_block3_1_conv[0][0]        \n",
            "__________________________________________________________________________________________________\n",
            "conv2_block3_1_relu (Activation (None, 56, 56, 64)   0           conv2_block3_1_bn[0][0]          \n",
            "__________________________________________________________________________________________________\n",
            "conv2_block3_2_conv (Conv2D)    (None, 56, 56, 64)   36928       conv2_block3_1_relu[0][0]        \n",
            "__________________________________________________________________________________________________\n",
            "conv2_block3_2_bn (BatchNormali (None, 56, 56, 64)   256         conv2_block3_2_conv[0][0]        \n",
            "__________________________________________________________________________________________________\n",
            "conv2_block3_2_relu (Activation (None, 56, 56, 64)   0           conv2_block3_2_bn[0][0]          \n",
            "__________________________________________________________________________________________________\n",
            "conv2_block3_3_conv (Conv2D)    (None, 56, 56, 256)  16640       conv2_block3_2_relu[0][0]        \n",
            "__________________________________________________________________________________________________\n",
            "conv2_block3_3_bn (BatchNormali (None, 56, 56, 256)  1024        conv2_block3_3_conv[0][0]        \n",
            "__________________________________________________________________________________________________\n",
            "conv2_block3_add (Add)          (None, 56, 56, 256)  0           conv2_block2_out[0][0]           \n",
            "                                                                 conv2_block3_3_bn[0][0]          \n",
            "__________________________________________________________________________________________________\n",
            "conv2_block3_out (Activation)   (None, 56, 56, 256)  0           conv2_block3_add[0][0]           \n",
            "__________________________________________________________________________________________________\n",
            "conv3_block1_1_conv (Conv2D)    (None, 28, 28, 128)  32896       conv2_block3_out[0][0]           \n",
            "__________________________________________________________________________________________________\n",
            "conv3_block1_1_bn (BatchNormali (None, 28, 28, 128)  512         conv3_block1_1_conv[0][0]        \n",
            "__________________________________________________________________________________________________\n",
            "conv3_block1_1_relu (Activation (None, 28, 28, 128)  0           conv3_block1_1_bn[0][0]          \n",
            "__________________________________________________________________________________________________\n",
            "conv3_block1_2_conv (Conv2D)    (None, 28, 28, 128)  147584      conv3_block1_1_relu[0][0]        \n",
            "__________________________________________________________________________________________________\n",
            "conv3_block1_2_bn (BatchNormali (None, 28, 28, 128)  512         conv3_block1_2_conv[0][0]        \n",
            "__________________________________________________________________________________________________\n",
            "conv3_block1_2_relu (Activation (None, 28, 28, 128)  0           conv3_block1_2_bn[0][0]          \n",
            "__________________________________________________________________________________________________\n",
            "conv3_block1_0_conv (Conv2D)    (None, 28, 28, 512)  131584      conv2_block3_out[0][0]           \n",
            "__________________________________________________________________________________________________\n",
            "conv3_block1_3_conv (Conv2D)    (None, 28, 28, 512)  66048       conv3_block1_2_relu[0][0]        \n",
            "__________________________________________________________________________________________________\n",
            "conv3_block1_0_bn (BatchNormali (None, 28, 28, 512)  2048        conv3_block1_0_conv[0][0]        \n",
            "__________________________________________________________________________________________________\n",
            "conv3_block1_3_bn (BatchNormali (None, 28, 28, 512)  2048        conv3_block1_3_conv[0][0]        \n",
            "__________________________________________________________________________________________________\n",
            "conv3_block1_add (Add)          (None, 28, 28, 512)  0           conv3_block1_0_bn[0][0]          \n",
            "                                                                 conv3_block1_3_bn[0][0]          \n",
            "__________________________________________________________________________________________________\n",
            "conv3_block1_out (Activation)   (None, 28, 28, 512)  0           conv3_block1_add[0][0]           \n",
            "__________________________________________________________________________________________________\n",
            "conv3_block2_1_conv (Conv2D)    (None, 28, 28, 128)  65664       conv3_block1_out[0][0]           \n",
            "__________________________________________________________________________________________________\n",
            "conv3_block2_1_bn (BatchNormali (None, 28, 28, 128)  512         conv3_block2_1_conv[0][0]        \n",
            "__________________________________________________________________________________________________\n",
            "conv3_block2_1_relu (Activation (None, 28, 28, 128)  0           conv3_block2_1_bn[0][0]          \n",
            "__________________________________________________________________________________________________\n",
            "conv3_block2_2_conv (Conv2D)    (None, 28, 28, 128)  147584      conv3_block2_1_relu[0][0]        \n",
            "__________________________________________________________________________________________________\n",
            "conv3_block2_2_bn (BatchNormali (None, 28, 28, 128)  512         conv3_block2_2_conv[0][0]        \n",
            "__________________________________________________________________________________________________\n",
            "conv3_block2_2_relu (Activation (None, 28, 28, 128)  0           conv3_block2_2_bn[0][0]          \n",
            "__________________________________________________________________________________________________\n",
            "conv3_block2_3_conv (Conv2D)    (None, 28, 28, 512)  66048       conv3_block2_2_relu[0][0]        \n",
            "__________________________________________________________________________________________________\n",
            "conv3_block2_3_bn (BatchNormali (None, 28, 28, 512)  2048        conv3_block2_3_conv[0][0]        \n",
            "__________________________________________________________________________________________________\n",
            "conv3_block2_add (Add)          (None, 28, 28, 512)  0           conv3_block1_out[0][0]           \n",
            "                                                                 conv3_block2_3_bn[0][0]          \n",
            "__________________________________________________________________________________________________\n",
            "conv3_block2_out (Activation)   (None, 28, 28, 512)  0           conv3_block2_add[0][0]           \n",
            "__________________________________________________________________________________________________\n",
            "conv3_block3_1_conv (Conv2D)    (None, 28, 28, 128)  65664       conv3_block2_out[0][0]           \n",
            "__________________________________________________________________________________________________\n",
            "conv3_block3_1_bn (BatchNormali (None, 28, 28, 128)  512         conv3_block3_1_conv[0][0]        \n",
            "__________________________________________________________________________________________________\n",
            "conv3_block3_1_relu (Activation (None, 28, 28, 128)  0           conv3_block3_1_bn[0][0]          \n",
            "__________________________________________________________________________________________________\n",
            "conv3_block3_2_conv (Conv2D)    (None, 28, 28, 128)  147584      conv3_block3_1_relu[0][0]        \n",
            "__________________________________________________________________________________________________\n",
            "conv3_block3_2_bn (BatchNormali (None, 28, 28, 128)  512         conv3_block3_2_conv[0][0]        \n",
            "__________________________________________________________________________________________________\n",
            "conv3_block3_2_relu (Activation (None, 28, 28, 128)  0           conv3_block3_2_bn[0][0]          \n",
            "__________________________________________________________________________________________________\n",
            "conv3_block3_3_conv (Conv2D)    (None, 28, 28, 512)  66048       conv3_block3_2_relu[0][0]        \n",
            "__________________________________________________________________________________________________\n",
            "conv3_block3_3_bn (BatchNormali (None, 28, 28, 512)  2048        conv3_block3_3_conv[0][0]        \n",
            "__________________________________________________________________________________________________\n",
            "conv3_block3_add (Add)          (None, 28, 28, 512)  0           conv3_block2_out[0][0]           \n",
            "                                                                 conv3_block3_3_bn[0][0]          \n",
            "__________________________________________________________________________________________________\n",
            "conv3_block3_out (Activation)   (None, 28, 28, 512)  0           conv3_block3_add[0][0]           \n",
            "__________________________________________________________________________________________________\n",
            "conv3_block4_1_conv (Conv2D)    (None, 28, 28, 128)  65664       conv3_block3_out[0][0]           \n",
            "__________________________________________________________________________________________________\n",
            "conv3_block4_1_bn (BatchNormali (None, 28, 28, 128)  512         conv3_block4_1_conv[0][0]        \n",
            "__________________________________________________________________________________________________\n",
            "conv3_block4_1_relu (Activation (None, 28, 28, 128)  0           conv3_block4_1_bn[0][0]          \n",
            "__________________________________________________________________________________________________\n",
            "conv3_block4_2_conv (Conv2D)    (None, 28, 28, 128)  147584      conv3_block4_1_relu[0][0]        \n",
            "__________________________________________________________________________________________________\n",
            "conv3_block4_2_bn (BatchNormali (None, 28, 28, 128)  512         conv3_block4_2_conv[0][0]        \n",
            "__________________________________________________________________________________________________\n",
            "conv3_block4_2_relu (Activation (None, 28, 28, 128)  0           conv3_block4_2_bn[0][0]          \n",
            "__________________________________________________________________________________________________\n",
            "conv3_block4_3_conv (Conv2D)    (None, 28, 28, 512)  66048       conv3_block4_2_relu[0][0]        \n",
            "__________________________________________________________________________________________________\n",
            "conv3_block4_3_bn (BatchNormali (None, 28, 28, 512)  2048        conv3_block4_3_conv[0][0]        \n",
            "__________________________________________________________________________________________________\n",
            "conv3_block4_add (Add)          (None, 28, 28, 512)  0           conv3_block3_out[0][0]           \n",
            "                                                                 conv3_block4_3_bn[0][0]          \n",
            "__________________________________________________________________________________________________\n",
            "conv3_block4_out (Activation)   (None, 28, 28, 512)  0           conv3_block4_add[0][0]           \n",
            "__________________________________________________________________________________________________\n",
            "conv4_block1_1_conv (Conv2D)    (None, 14, 14, 256)  131328      conv3_block4_out[0][0]           \n",
            "__________________________________________________________________________________________________\n",
            "conv4_block1_1_bn (BatchNormali (None, 14, 14, 256)  1024        conv4_block1_1_conv[0][0]        \n",
            "__________________________________________________________________________________________________\n",
            "conv4_block1_1_relu (Activation (None, 14, 14, 256)  0           conv4_block1_1_bn[0][0]          \n",
            "__________________________________________________________________________________________________\n",
            "conv4_block1_2_conv (Conv2D)    (None, 14, 14, 256)  590080      conv4_block1_1_relu[0][0]        \n",
            "__________________________________________________________________________________________________\n",
            "conv4_block1_2_bn (BatchNormali (None, 14, 14, 256)  1024        conv4_block1_2_conv[0][0]        \n",
            "__________________________________________________________________________________________________\n",
            "conv4_block1_2_relu (Activation (None, 14, 14, 256)  0           conv4_block1_2_bn[0][0]          \n",
            "__________________________________________________________________________________________________\n",
            "conv4_block1_0_conv (Conv2D)    (None, 14, 14, 1024) 525312      conv3_block4_out[0][0]           \n",
            "__________________________________________________________________________________________________\n",
            "conv4_block1_3_conv (Conv2D)    (None, 14, 14, 1024) 263168      conv4_block1_2_relu[0][0]        \n",
            "__________________________________________________________________________________________________\n",
            "conv4_block1_0_bn (BatchNormali (None, 14, 14, 1024) 4096        conv4_block1_0_conv[0][0]        \n",
            "__________________________________________________________________________________________________\n",
            "conv4_block1_3_bn (BatchNormali (None, 14, 14, 1024) 4096        conv4_block1_3_conv[0][0]        \n",
            "__________________________________________________________________________________________________\n",
            "conv4_block1_add (Add)          (None, 14, 14, 1024) 0           conv4_block1_0_bn[0][0]          \n",
            "                                                                 conv4_block1_3_bn[0][0]          \n",
            "__________________________________________________________________________________________________\n",
            "conv4_block1_out (Activation)   (None, 14, 14, 1024) 0           conv4_block1_add[0][0]           \n",
            "__________________________________________________________________________________________________\n",
            "conv4_block2_1_conv (Conv2D)    (None, 14, 14, 256)  262400      conv4_block1_out[0][0]           \n",
            "__________________________________________________________________________________________________\n",
            "conv4_block2_1_bn (BatchNormali (None, 14, 14, 256)  1024        conv4_block2_1_conv[0][0]        \n",
            "__________________________________________________________________________________________________\n",
            "conv4_block2_1_relu (Activation (None, 14, 14, 256)  0           conv4_block2_1_bn[0][0]          \n",
            "__________________________________________________________________________________________________\n",
            "conv4_block2_2_conv (Conv2D)    (None, 14, 14, 256)  590080      conv4_block2_1_relu[0][0]        \n",
            "__________________________________________________________________________________________________\n",
            "conv4_block2_2_bn (BatchNormali (None, 14, 14, 256)  1024        conv4_block2_2_conv[0][0]        \n",
            "__________________________________________________________________________________________________\n",
            "conv4_block2_2_relu (Activation (None, 14, 14, 256)  0           conv4_block2_2_bn[0][0]          \n",
            "__________________________________________________________________________________________________\n",
            "conv4_block2_3_conv (Conv2D)    (None, 14, 14, 1024) 263168      conv4_block2_2_relu[0][0]        \n",
            "__________________________________________________________________________________________________\n",
            "conv4_block2_3_bn (BatchNormali (None, 14, 14, 1024) 4096        conv4_block2_3_conv[0][0]        \n",
            "__________________________________________________________________________________________________\n",
            "conv4_block2_add (Add)          (None, 14, 14, 1024) 0           conv4_block1_out[0][0]           \n",
            "                                                                 conv4_block2_3_bn[0][0]          \n",
            "__________________________________________________________________________________________________\n",
            "conv4_block2_out (Activation)   (None, 14, 14, 1024) 0           conv4_block2_add[0][0]           \n",
            "__________________________________________________________________________________________________\n",
            "conv4_block3_1_conv (Conv2D)    (None, 14, 14, 256)  262400      conv4_block2_out[0][0]           \n",
            "__________________________________________________________________________________________________\n",
            "conv4_block3_1_bn (BatchNormali (None, 14, 14, 256)  1024        conv4_block3_1_conv[0][0]        \n",
            "__________________________________________________________________________________________________\n",
            "conv4_block3_1_relu (Activation (None, 14, 14, 256)  0           conv4_block3_1_bn[0][0]          \n",
            "__________________________________________________________________________________________________\n",
            "conv4_block3_2_conv (Conv2D)    (None, 14, 14, 256)  590080      conv4_block3_1_relu[0][0]        \n",
            "__________________________________________________________________________________________________\n",
            "conv4_block3_2_bn (BatchNormali (None, 14, 14, 256)  1024        conv4_block3_2_conv[0][0]        \n",
            "__________________________________________________________________________________________________\n",
            "conv4_block3_2_relu (Activation (None, 14, 14, 256)  0           conv4_block3_2_bn[0][0]          \n",
            "__________________________________________________________________________________________________\n",
            "conv4_block3_3_conv (Conv2D)    (None, 14, 14, 1024) 263168      conv4_block3_2_relu[0][0]        \n",
            "__________________________________________________________________________________________________\n",
            "conv4_block3_3_bn (BatchNormali (None, 14, 14, 1024) 4096        conv4_block3_3_conv[0][0]        \n",
            "__________________________________________________________________________________________________\n",
            "conv4_block3_add (Add)          (None, 14, 14, 1024) 0           conv4_block2_out[0][0]           \n",
            "                                                                 conv4_block3_3_bn[0][0]          \n",
            "__________________________________________________________________________________________________\n",
            "conv4_block3_out (Activation)   (None, 14, 14, 1024) 0           conv4_block3_add[0][0]           \n",
            "__________________________________________________________________________________________________\n",
            "conv4_block4_1_conv (Conv2D)    (None, 14, 14, 256)  262400      conv4_block3_out[0][0]           \n",
            "__________________________________________________________________________________________________\n",
            "conv4_block4_1_bn (BatchNormali (None, 14, 14, 256)  1024        conv4_block4_1_conv[0][0]        \n",
            "__________________________________________________________________________________________________\n",
            "conv4_block4_1_relu (Activation (None, 14, 14, 256)  0           conv4_block4_1_bn[0][0]          \n",
            "__________________________________________________________________________________________________\n",
            "conv4_block4_2_conv (Conv2D)    (None, 14, 14, 256)  590080      conv4_block4_1_relu[0][0]        \n",
            "__________________________________________________________________________________________________\n",
            "conv4_block4_2_bn (BatchNormali (None, 14, 14, 256)  1024        conv4_block4_2_conv[0][0]        \n",
            "__________________________________________________________________________________________________\n",
            "conv4_block4_2_relu (Activation (None, 14, 14, 256)  0           conv4_block4_2_bn[0][0]          \n",
            "__________________________________________________________________________________________________\n",
            "conv4_block4_3_conv (Conv2D)    (None, 14, 14, 1024) 263168      conv4_block4_2_relu[0][0]        \n",
            "__________________________________________________________________________________________________\n",
            "conv4_block4_3_bn (BatchNormali (None, 14, 14, 1024) 4096        conv4_block4_3_conv[0][0]        \n",
            "__________________________________________________________________________________________________\n",
            "conv4_block4_add (Add)          (None, 14, 14, 1024) 0           conv4_block3_out[0][0]           \n",
            "                                                                 conv4_block4_3_bn[0][0]          \n",
            "__________________________________________________________________________________________________\n",
            "conv4_block4_out (Activation)   (None, 14, 14, 1024) 0           conv4_block4_add[0][0]           \n",
            "__________________________________________________________________________________________________\n",
            "conv4_block5_1_conv (Conv2D)    (None, 14, 14, 256)  262400      conv4_block4_out[0][0]           \n",
            "__________________________________________________________________________________________________\n",
            "conv4_block5_1_bn (BatchNormali (None, 14, 14, 256)  1024        conv4_block5_1_conv[0][0]        \n",
            "__________________________________________________________________________________________________\n",
            "conv4_block5_1_relu (Activation (None, 14, 14, 256)  0           conv4_block5_1_bn[0][0]          \n",
            "__________________________________________________________________________________________________\n",
            "conv4_block5_2_conv (Conv2D)    (None, 14, 14, 256)  590080      conv4_block5_1_relu[0][0]        \n",
            "__________________________________________________________________________________________________\n",
            "conv4_block5_2_bn (BatchNormali (None, 14, 14, 256)  1024        conv4_block5_2_conv[0][0]        \n",
            "__________________________________________________________________________________________________\n",
            "conv4_block5_2_relu (Activation (None, 14, 14, 256)  0           conv4_block5_2_bn[0][0]          \n",
            "__________________________________________________________________________________________________\n",
            "conv4_block5_3_conv (Conv2D)    (None, 14, 14, 1024) 263168      conv4_block5_2_relu[0][0]        \n",
            "__________________________________________________________________________________________________\n",
            "conv4_block5_3_bn (BatchNormali (None, 14, 14, 1024) 4096        conv4_block5_3_conv[0][0]        \n",
            "__________________________________________________________________________________________________\n",
            "conv4_block5_add (Add)          (None, 14, 14, 1024) 0           conv4_block4_out[0][0]           \n",
            "                                                                 conv4_block5_3_bn[0][0]          \n",
            "__________________________________________________________________________________________________\n",
            "conv4_block5_out (Activation)   (None, 14, 14, 1024) 0           conv4_block5_add[0][0]           \n",
            "__________________________________________________________________________________________________\n",
            "conv4_block6_1_conv (Conv2D)    (None, 14, 14, 256)  262400      conv4_block5_out[0][0]           \n",
            "__________________________________________________________________________________________________\n",
            "conv4_block6_1_bn (BatchNormali (None, 14, 14, 256)  1024        conv4_block6_1_conv[0][0]        \n",
            "__________________________________________________________________________________________________\n",
            "conv4_block6_1_relu (Activation (None, 14, 14, 256)  0           conv4_block6_1_bn[0][0]          \n",
            "__________________________________________________________________________________________________\n",
            "conv4_block6_2_conv (Conv2D)    (None, 14, 14, 256)  590080      conv4_block6_1_relu[0][0]        \n",
            "__________________________________________________________________________________________________\n",
            "conv4_block6_2_bn (BatchNormali (None, 14, 14, 256)  1024        conv4_block6_2_conv[0][0]        \n",
            "__________________________________________________________________________________________________\n",
            "conv4_block6_2_relu (Activation (None, 14, 14, 256)  0           conv4_block6_2_bn[0][0]          \n",
            "__________________________________________________________________________________________________\n",
            "conv4_block6_3_conv (Conv2D)    (None, 14, 14, 1024) 263168      conv4_block6_2_relu[0][0]        \n",
            "__________________________________________________________________________________________________\n",
            "conv4_block6_3_bn (BatchNormali (None, 14, 14, 1024) 4096        conv4_block6_3_conv[0][0]        \n",
            "__________________________________________________________________________________________________\n",
            "conv4_block6_add (Add)          (None, 14, 14, 1024) 0           conv4_block5_out[0][0]           \n",
            "                                                                 conv4_block6_3_bn[0][0]          \n",
            "__________________________________________________________________________________________________\n",
            "conv4_block6_out (Activation)   (None, 14, 14, 1024) 0           conv4_block6_add[0][0]           \n",
            "__________________________________________________________________________________________________\n",
            "conv5_block1_1_conv (Conv2D)    (None, 7, 7, 512)    524800      conv4_block6_out[0][0]           \n",
            "__________________________________________________________________________________________________\n",
            "conv5_block1_1_bn (BatchNormali (None, 7, 7, 512)    2048        conv5_block1_1_conv[0][0]        \n",
            "__________________________________________________________________________________________________\n",
            "conv5_block1_1_relu (Activation (None, 7, 7, 512)    0           conv5_block1_1_bn[0][0]          \n",
            "__________________________________________________________________________________________________\n",
            "conv5_block1_2_conv (Conv2D)    (None, 7, 7, 512)    2359808     conv5_block1_1_relu[0][0]        \n",
            "__________________________________________________________________________________________________\n",
            "conv5_block1_2_bn (BatchNormali (None, 7, 7, 512)    2048        conv5_block1_2_conv[0][0]        \n",
            "__________________________________________________________________________________________________\n",
            "conv5_block1_2_relu (Activation (None, 7, 7, 512)    0           conv5_block1_2_bn[0][0]          \n",
            "__________________________________________________________________________________________________\n",
            "conv5_block1_0_conv (Conv2D)    (None, 7, 7, 2048)   2099200     conv4_block6_out[0][0]           \n",
            "__________________________________________________________________________________________________\n",
            "conv5_block1_3_conv (Conv2D)    (None, 7, 7, 2048)   1050624     conv5_block1_2_relu[0][0]        \n",
            "__________________________________________________________________________________________________\n",
            "conv5_block1_0_bn (BatchNormali (None, 7, 7, 2048)   8192        conv5_block1_0_conv[0][0]        \n",
            "__________________________________________________________________________________________________\n",
            "conv5_block1_3_bn (BatchNormali (None, 7, 7, 2048)   8192        conv5_block1_3_conv[0][0]        \n",
            "__________________________________________________________________________________________________\n",
            "conv5_block1_add (Add)          (None, 7, 7, 2048)   0           conv5_block1_0_bn[0][0]          \n",
            "                                                                 conv5_block1_3_bn[0][0]          \n",
            "__________________________________________________________________________________________________\n",
            "conv5_block1_out (Activation)   (None, 7, 7, 2048)   0           conv5_block1_add[0][0]           \n",
            "__________________________________________________________________________________________________\n",
            "conv5_block2_1_conv (Conv2D)    (None, 7, 7, 512)    1049088     conv5_block1_out[0][0]           \n",
            "__________________________________________________________________________________________________\n",
            "conv5_block2_1_bn (BatchNormali (None, 7, 7, 512)    2048        conv5_block2_1_conv[0][0]        \n",
            "__________________________________________________________________________________________________\n",
            "conv5_block2_1_relu (Activation (None, 7, 7, 512)    0           conv5_block2_1_bn[0][0]          \n",
            "__________________________________________________________________________________________________\n",
            "conv5_block2_2_conv (Conv2D)    (None, 7, 7, 512)    2359808     conv5_block2_1_relu[0][0]        \n",
            "__________________________________________________________________________________________________\n",
            "conv5_block2_2_bn (BatchNormali (None, 7, 7, 512)    2048        conv5_block2_2_conv[0][0]        \n",
            "__________________________________________________________________________________________________\n",
            "conv5_block2_2_relu (Activation (None, 7, 7, 512)    0           conv5_block2_2_bn[0][0]          \n",
            "__________________________________________________________________________________________________\n",
            "conv5_block2_3_conv (Conv2D)    (None, 7, 7, 2048)   1050624     conv5_block2_2_relu[0][0]        \n",
            "__________________________________________________________________________________________________\n",
            "conv5_block2_3_bn (BatchNormali (None, 7, 7, 2048)   8192        conv5_block2_3_conv[0][0]        \n",
            "__________________________________________________________________________________________________\n",
            "conv5_block2_add (Add)          (None, 7, 7, 2048)   0           conv5_block1_out[0][0]           \n",
            "                                                                 conv5_block2_3_bn[0][0]          \n",
            "__________________________________________________________________________________________________\n",
            "conv5_block2_out (Activation)   (None, 7, 7, 2048)   0           conv5_block2_add[0][0]           \n",
            "__________________________________________________________________________________________________\n",
            "conv5_block3_1_conv (Conv2D)    (None, 7, 7, 512)    1049088     conv5_block2_out[0][0]           \n",
            "__________________________________________________________________________________________________\n",
            "conv5_block3_1_bn (BatchNormali (None, 7, 7, 512)    2048        conv5_block3_1_conv[0][0]        \n",
            "__________________________________________________________________________________________________\n",
            "conv5_block3_1_relu (Activation (None, 7, 7, 512)    0           conv5_block3_1_bn[0][0]          \n",
            "__________________________________________________________________________________________________\n",
            "conv5_block3_2_conv (Conv2D)    (None, 7, 7, 512)    2359808     conv5_block3_1_relu[0][0]        \n",
            "__________________________________________________________________________________________________\n",
            "conv5_block3_2_bn (BatchNormali (None, 7, 7, 512)    2048        conv5_block3_2_conv[0][0]        \n",
            "__________________________________________________________________________________________________\n",
            "conv5_block3_2_relu (Activation (None, 7, 7, 512)    0           conv5_block3_2_bn[0][0]          \n",
            "__________________________________________________________________________________________________\n",
            "conv5_block3_3_conv (Conv2D)    (None, 7, 7, 2048)   1050624     conv5_block3_2_relu[0][0]        \n",
            "__________________________________________________________________________________________________\n",
            "conv5_block3_3_bn (BatchNormali (None, 7, 7, 2048)   8192        conv5_block3_3_conv[0][0]        \n",
            "__________________________________________________________________________________________________\n",
            "conv5_block3_add (Add)          (None, 7, 7, 2048)   0           conv5_block2_out[0][0]           \n",
            "                                                                 conv5_block3_3_bn[0][0]          \n",
            "__________________________________________________________________________________________________\n",
            "conv5_block3_out (Activation)   (None, 7, 7, 2048)   0           conv5_block3_add[0][0]           \n",
            "__________________________________________________________________________________________________\n",
            "global_average_pooling2d_1 (Glo (None, 2048)         0           conv5_block3_out[0][0]           \n",
            "__________________________________________________________________________________________________\n",
            "flatten (Flatten)               (None, 2048)         0           global_average_pooling2d_1[0][0] \n",
            "__________________________________________________________________________________________________\n",
            "dense_2 (Dense)                 (None, 256)          524544      flatten[0][0]                    \n",
            "__________________________________________________________________________________________________\n",
            "dropout_1 (Dropout)             (None, 256)          0           dense_2[0][0]                    \n",
            "__________________________________________________________________________________________________\n",
            "dense_3 (Dense)                 (None, 8)            2056        dropout_1[0][0]                  \n",
            "==================================================================================================\n",
            "Total params: 24,114,312\n",
            "Trainable params: 526,600\n",
            "Non-trainable params: 23,587,712\n",
            "__________________________________________________________________________________________________\n"
          ],
          "name": "stdout"
        }
      ]
    }
  ]
}