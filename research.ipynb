{
  "nbformat": 4,
  "nbformat_minor": 0,
  "metadata": {
    "colab": {
      "name": "research.ipynb",
      "provenance": [],
      "collapsed_sections": []
    },
    "kernelspec": {
      "display_name": "Python 3",
      "name": "python3"
    }
  },
  "cells": [
    {
      "cell_type": "code",
      "metadata": {
        "colab": {
          "base_uri": "https://localhost:8080/"
        },
        "id": "06SfKVWF2o6a",
        "outputId": "38e2ca5e-7c08-49d0-bf41-d469abe6f1ec"
      },
      "source": [
        "from google.colab import drive\r\n",
        "drive.mount(\"/content/gdrive\")"
      ],
      "execution_count": null,
      "outputs": [
        {
          "output_type": "stream",
          "text": [
            "Mounted at /content/gdrive\n"
          ],
          "name": "stdout"
        }
      ]
    },
    {
      "cell_type": "code",
      "metadata": {
        "id": "BLREk0tA3QLd"
      },
      "source": [
        "PATH_OF_DATA = '/content/gdrive/MyDrive/images'"
      ],
      "execution_count": null,
      "outputs": []
    },
    {
      "cell_type": "code",
      "metadata": {
        "id": "ldMBVHDg7dO7"
      },
      "source": [
        "import shutil\r\n",
        "import pandas as pd\r\n",
        "import numpy as np\r\n",
        "import os\r\n",
        "import math\r\n",
        "import tensorflow as tf \r\n",
        "from tensorflow.keras.preprocessing.image import ImageDataGenerator \r\n",
        "from tensorflow.keras import layers \r\n",
        "from tensorflow.keras import Model \r\n",
        "import matplotlib.pyplot as plt\r\n",
        "%matplotlib inline"
      ],
      "execution_count": null,
      "outputs": []
    },
    {
      "cell_type": "code",
      "metadata": {
        "colab": {
          "base_uri": "https://localhost:8080/"
        },
        "id": "tSg1PnzrdkND",
        "outputId": "6bc6f17a-8d7c-4ad5-81a1-352e6ba5e7d7"
      },
      "source": [
        "os.chdir(PATH_OF_DATA)\r\n",
        "category_list = list(filter(lambda x: os.path.isdir(x), os.listdir()))\r\n",
        "for category in category_list:\r\n",
        "  print(category)"
      ],
      "execution_count": null,
      "outputs": [
        {
          "output_type": "stream",
          "text": [
            "Chilli\n",
            "Bitter gourd\n",
            "Lime\n",
            "Mature tea tree\n",
            "White Gigantic swallow wort\n",
            "Ground nut\n",
            "Wood-apple\n",
            "Banana pepper\n"
          ],
          "name": "stdout"
        }
      ]
    },
    {
      "cell_type": "code",
      "metadata": {
        "id": "KD7mTDe7ecds"
      },
      "source": [
        "data_set_dirs= ['train','test']\r\n",
        "for dsdirs in data_set_dirs:\r\n",
        "  path = PATH_OF_DATA + '/'+ dsdirs\r\n",
        "  os.mkdir( path,755 )"
      ],
      "execution_count": null,
      "outputs": []
    },
    {
      "cell_type": "code",
      "metadata": {
        "id": "Y3IX-KccLz5W"
      },
      "source": [
        "train_prop = 0.7"
      ],
      "execution_count": null,
      "outputs": []
    },
    {
      "cell_type": "code",
      "metadata": {
        "id": "8CKDcElJMyN1"
      },
      "source": [
        "def create_dataset():\r\n",
        "  for ii,cat in enumerate(category_list):    \r\n",
        "    src_path = PATH_OF_DATA + '/' + cat\r\n",
        "    dest_dir1 = PATH_OF_DATA+'/train/'+str(ii)\r\n",
        "    dest_dir2 = PATH_OF_DATA+'/test/'+str(ii)\r\n",
        "    \r\n",
        "    dest_dirs_list = [dest_dir1,dest_dir2]\r\n",
        "    for dirs in dest_dirs_list:\r\n",
        "      os.mkdir(dirs,755 )\r\n",
        "    \r\n",
        "    #get files' names list from respective directories\r\n",
        "    os.chdir(src_path)\r\n",
        "    files = [f for f in os.listdir() if os.path.isfile(f)]\r\n",
        "    \r\n",
        "    #get training, testing  files count\r\n",
        "    train_count = math.ceil(train_prop*len(files))\r\n",
        "    test_count = int((len(files)-train_count)/2)\r\n",
        "    \r\n",
        "    #get files to segragate for train,test data set\r\n",
        "    train_data_list = files[0: train_count] \r\n",
        "    test_data_list =  files[train_count+test_count:]\r\n",
        "       \r\n",
        "  \r\n",
        "    for train_data in train_data_list:\r\n",
        "      train_path = src_path + '/' + train_data\r\n",
        "      shutil.copy(train_path,dest_dir1)\r\n",
        "    \r\n",
        "    for test_data in test_data_list:\r\n",
        "      test_path = src_path + '/' + test_data\r\n",
        "      shutil.copy(test_path,dest_dir2)    \r\n",
        "    \r\n",
        "create_dataset()"
      ],
      "execution_count": null,
      "outputs": []
    },
    {
      "cell_type": "code",
      "metadata": {
        "id": "Yvi154KSM8h1"
      },
      "source": [
        "train_dir = '/content/gdrive/MyDrive/images/train'\r\n",
        "\r\n",
        "test_dir = '/content/gdrive/MyDrive/images/test'"
      ],
      "execution_count": null,
      "outputs": []
    },
    {
      "cell_type": "code",
      "metadata": {
        "colab": {
          "base_uri": "https://localhost:8080/"
        },
        "id": "nrC5hZwhNqAC",
        "outputId": "fbfe76e0-4454-4272-b776-cf442c2bc9e6"
      },
      "source": [
        "train_datagen = ImageDataGenerator(rescale = 1./255., rotation_range = 40, width_shift_range = 0.2, height_shift_range = 0.2, \r\n",
        "                                   shear_range = 0.2, zoom_range = 0.2, horizontal_flip = True, fill_mode=\"nearest\")\r\n",
        "\r\n",
        "test_datagen = ImageDataGenerator(rescale = 1.0/255.)\r\n",
        "\r\n",
        "train_generator = train_datagen.flow_from_directory(train_dir, batch_size = 32, target_size = (224, 224), color_mode='rgb', \r\n",
        "                                                    classes=None, class_mode='categorical', shuffle=True, seed=None, interpolation=\"nearest\")\r\n",
        "\r\n",
        "test_generator = test_datagen.flow_from_directory( test_dir, batch_size = 32, target_size = (224, 224))\r\n",
        "\r\n",
        "test_steps_per_epoch = np.math.ceil(test_generator.samples / test_generator.batch_size)\r\n"
      ],
      "execution_count": 107,
      "outputs": [
        {
          "output_type": "stream",
          "text": [
            "Found 211 images belonging to 8 classes.\n",
            "Found 43 images belonging to 8 classes.\n"
          ],
          "name": "stdout"
        }
      ]
    },
    {
      "cell_type": "code",
      "metadata": {
        "colab": {
          "base_uri": "https://localhost:8080/"
        },
        "id": "WCkqTFtjAC1h",
        "outputId": "9f53c672-8a00-4f9a-8667-df2aeeab9168"
      },
      "source": [
        "len(train_generator), len(test_generator)"
      ],
      "execution_count": 108,
      "outputs": [
        {
          "output_type": "execute_result",
          "data": {
            "text/plain": [
              "(7, 2)"
            ]
          },
          "metadata": {
            "tags": []
          },
          "execution_count": 108
        }
      ]
    },
    {
      "cell_type": "code",
      "metadata": {
        "id": "T2VGsRPuNsBL"
      },
      "source": [
        "from tensorflow.keras.applications import ResNet50\r\n",
        "\r\n",
        "base_model = ResNet50(input_shape=(224, 224,3), include_top=False, weights=\"imagenet\")"
      ],
      "execution_count": 109,
      "outputs": []
    },
    {
      "cell_type": "code",
      "metadata": {
        "id": "GgWsKIy6QBfr"
      },
      "source": [
        "base_model.load_weights(\"/content/gdrive/My Drive/resnet50_weights_tf_dim_ordering_tf_kernels_notop.h5\")"
      ],
      "execution_count": 110,
      "outputs": []
    },
    {
      "cell_type": "code",
      "metadata": {
        "id": "v-vNx7raJ98W"
      },
      "source": [
        "for layer in base_model.layers:\r\n",
        "    layer.trainable = False"
      ],
      "execution_count": 111,
      "outputs": []
    },
    {
      "cell_type": "code",
      "metadata": {
        "id": "l1jz-7m4XlG4"
      },
      "source": [
        "num_classes = 8"
      ],
      "execution_count": 112,
      "outputs": []
    },
    {
      "cell_type": "code",
      "metadata": {
        "id": "IyPuniRkvscy"
      },
      "source": [
        "import keras.backend as K\r\n",
        "\r\n",
        "def recall_m(y_true, y_pred):\r\n",
        "     true_positives = K.sum(K.round(K.clip(y_true * y_pred, 0, 1)))\r\n",
        "     possible_positives = K.sum(K.round(K.clip(y_true, 0, 1)))\r\n",
        "     recall = true_positives / (possible_positives + K.epsilon())\r\n",
        "     return recall"
      ],
      "execution_count": 122,
      "outputs": []
    },
    {
      "cell_type": "code",
      "metadata": {
        "id": "G33PtUYxvzMz"
      },
      "source": [
        "def precision_m(y_true, y_pred):\r\n",
        "    true_positives = K.sum(K.round(K.clip(y_true * y_pred, 0, 1)))\r\n",
        "    predicted_positives = K.sum(K.round(K.clip(y_pred, 0, 1)))\r\n",
        "    precision = true_positives / (predicted_positives + K.epsilon())\r\n",
        "    return precision"
      ],
      "execution_count": 123,
      "outputs": []
    },
    {
      "cell_type": "code",
      "metadata": {
        "id": "u4Pq6T0ae16j"
      },
      "source": [
        "def f1_m(y_true, y_pred):\r\n",
        "    precision = precision_m(y_true, y_pred)\r\n",
        "    recall = recall_m(y_true, y_pred)\r\n",
        "    return 2*((precision*recall)/(precision+recall+K.epsilon()))"
      ],
      "execution_count": 115,
      "outputs": []
    },
    {
      "cell_type": "code",
      "metadata": {
        "id": "mw881CjRX0OJ"
      },
      "source": [
        "from keras.models import Sequential,Model,load_model\r\n",
        "from keras.layers import Dense, Dropout, Flatten, Conv2D, MaxPool2D,GlobalAveragePooling2D"
      ],
      "execution_count": 116,
      "outputs": []
    },
    {
      "cell_type": "code",
      "metadata": {
        "id": "t4Nmn-YYX9HY"
      },
      "source": [
        "x = base_model.output\r\n",
        "x = GlobalAveragePooling2D()(x)\r\n",
        "x = Flatten(name=\"flatten\")(x)\r\n",
        "x = Dense(256, activation=\"relu\")(x)\r\n",
        "x = Dropout(0.5)(x)\r\n",
        "predictions = Dense(num_classes, activation= 'softmax')(x)\r\n",
        "model = Model(inputs = base_model.input, outputs = predictions)"
      ],
      "execution_count": 117,
      "outputs": []
    },
    {
      "cell_type": "code",
      "metadata": {
        "id": "L9BhGiMK-7tG"
      },
      "source": [
        "from tensorflow.keras import optimizers\r\n",
        "\r\n",
        "sgd = optimizers.SGD(lr = 0.01, decay = 1e-6, momentum = 0.9, nesterov = True)"
      ],
      "execution_count": null,
      "outputs": []
    },
    {
      "cell_type": "code",
      "metadata": {
        "id": "KIb8z4betP0W"
      },
      "source": [
        "from keras.callbacks import Callback\r\n",
        "\r\n",
        "class LRFinder(Callback):\r\n",
        "  def __init__(self, min_lr=1e-5, max_lr=1e-2, steps_per_epoch=None, epochs=None):\r\n",
        "        super().__init__()\r\n",
        "        \r\n",
        "        self.min_lr = min_lr\r\n",
        "        self.max_lr = max_lr\r\n",
        "        self.total_iterations = steps_per_epoch * epochs\r\n",
        "        self.iteration = 0\r\n",
        "        self.history = {}\r\n",
        "        \r\n",
        "  def clr(self):\r\n",
        "        x = self.iteration / self.total_iterations \r\n",
        "        return self.min_lr + (self.max_lr-self.min_lr) * x\r\n",
        "        \r\n",
        "  def on_train_begin(self, logs=None):\r\n",
        "        logs = logs or {}\r\n",
        "        K.set_value(self.model.optimizer.lr, self.min_lr)\r\n",
        "        \r\n",
        "  def on_batch_end(self, epoch, logs=None):\r\n",
        "        logs = logs or {}\r\n",
        "        self.iteration += 1\r\n",
        "\r\n",
        "        self.history.setdefault('lr', []).append(K.get_value(self.model.optimizer.lr))\r\n",
        "        self.history.setdefault('iterations', []).append(self.iteration)\r\n",
        "\r\n",
        "        for k, v in logs.items():\r\n",
        "            self.history.setdefault(k, []).append(v)\r\n",
        "            \r\n",
        "        K.set_value(self.model.optimizer.lr, self.clr())\r\n",
        " \r\n",
        "  def plot_lr(self):\r\n",
        "        plt.plot(self.history['iterations'], self.history['lr'])\r\n",
        "        plt.yscale('log')\r\n",
        "        plt.xlabel('Iteration')\r\n",
        "        plt.ylabel('Learning rate')\r\n",
        "        plt.show()\r\n",
        "        \r\n",
        "  def plot_loss(self):\r\n",
        "        plt.plot(self.history['lr'], self.history['loss'])\r\n",
        "        plt.xscale('log')\r\n",
        "        plt.xlabel('Learning rate')\r\n",
        "        plt.ylabel('Loss')\r\n",
        "        plt.show()"
      ],
      "execution_count": null,
      "outputs": []
    },
    {
      "cell_type": "code",
      "metadata": {
        "id": "jACVIY2Hxv5R"
      },
      "source": [
        "epoch_size = 25\r\n",
        "batch_size = 32"
      ],
      "execution_count": null,
      "outputs": []
    },
    {
      "cell_type": "code",
      "metadata": {
        "id": "mOFiLZA2t2zi"
      },
      "source": [
        "lr_finder = LRFinder(min_lr=1e-5, max_lr=1e-2, steps_per_epoch=np.ceil(epoch_size/batch_size), epochs=3)"
      ],
      "execution_count": null,
      "outputs": []
    },
    {
      "cell_type": "code",
      "metadata": {
        "id": "-ne6wx2I7SqB"
      },
      "source": [
        "from tensorflow.keras.optimizers import Adam\r\n",
        "\r\n",
        "opt = Adam(lr = 1e-3, decay = 1e-3/20)"
      ],
      "execution_count": 118,
      "outputs": []
    },
    {
      "cell_type": "code",
      "metadata": {
        "id": "HXJT3agLkcrp"
      },
      "source": [
        "model.compile(optimizer = opt, loss = 'categorical_crossentropy', metrics = ['acc', f1_m, precision_m, recall_m])"
      ],
      "execution_count": 124,
      "outputs": []
    },
    {
      "cell_type": "code",
      "metadata": {
        "id": "KG8CKdTPA_eu"
      },
      "source": [
        "from tensorflow.python.keras.callbacks import EarlyStopping, ModelCheckpoint\r\n",
        "\r\n",
        "cb_early_stopper = EarlyStopping(monitor = 'val_loss', patience = 15)\r\n",
        "cb_checkpointer = ModelCheckpoint(filepath = '/content/gdrive/My Drive/best.hdf5', monitor = 'val_loss', save_best_only = True, mode = 'auto')"
      ],
      "execution_count": 125,
      "outputs": []
    },
    {
      "cell_type": "code",
      "metadata": {
        "colab": {
          "base_uri": "https://localhost:8080/"
        },
        "id": "iifUC6Y_smbS",
        "outputId": "dfa5fa80-6359-4bc9-8ccd-b46cb4090e41"
      },
      "source": [
        "resnet_history = model.fit(train_generator, validation_data = test_generator, epochs = 25, \r\n",
        "                           steps_per_epoch=train_generator.samples/train_generator.batch_size,\r\n",
        "                           validation_steps=test_generator.samples/test_generator.batch_size,\r\n",
        "                           callbacks=[cb_checkpointer, cb_early_stopper])\r\n",
        "\r\n",
        "model.load_weights(\"/content/gdrive/My Drive/best.hdf5\")"
      ],
      "execution_count": 126,
      "outputs": [
        {
          "output_type": "stream",
          "text": [
            "Epoch 1/25\n",
            "6/6 [==============================] - 102s 15s/step - loss: 2.4193 - acc: 0.1850 - f1_m: 0.1029 - precision_m: 0.2722 - recall_m: 0.0676 - val_loss: 1.9814 - val_acc: 0.2558 - val_f1_m: 0.0000e+00 - val_precision_m: 0.0000e+00 - val_recall_m: 0.0000e+00\n",
            "Epoch 2/25\n",
            "6/6 [==============================] - 91s 14s/step - loss: 2.2892 - acc: 0.1756 - f1_m: 0.0685 - precision_m: 0.3575 - recall_m: 0.0383 - val_loss: 1.8283 - val_acc: 0.2791 - val_f1_m: 0.3224 - val_precision_m: 0.9000 - val_recall_m: 0.1989\n",
            "Epoch 3/25\n",
            "6/6 [==============================] - 91s 14s/step - loss: 2.0189 - acc: 0.2523 - f1_m: 0.1937 - precision_m: 0.7861 - recall_m: 0.1126 - val_loss: 1.7438 - val_acc: 0.3256 - val_f1_m: 0.2854 - val_precision_m: 0.9167 - val_recall_m: 0.1690\n",
            "Epoch 4/25\n",
            "6/6 [==============================] - 91s 14s/step - loss: 1.8718 - acc: 0.3076 - f1_m: 0.1863 - precision_m: 0.9768 - recall_m: 0.1080 - val_loss: 1.7184 - val_acc: 0.3023 - val_f1_m: 0.1750 - val_precision_m: 0.4375 - val_recall_m: 0.1094\n",
            "Epoch 5/25\n",
            "6/6 [==============================] - 97s 15s/step - loss: 1.8178 - acc: 0.2769 - f1_m: 0.1754 - precision_m: 0.8484 - recall_m: 0.1001 - val_loss: 1.6962 - val_acc: 0.3488 - val_f1_m: 0.2348 - val_precision_m: 0.7500 - val_recall_m: 0.1392\n",
            "Epoch 6/25\n",
            "6/6 [==============================] - 91s 15s/step - loss: 1.7442 - acc: 0.3217 - f1_m: 0.1705 - precision_m: 0.9014 - recall_m: 0.0963 - val_loss: 1.6738 - val_acc: 0.3256 - val_f1_m: 0.2854 - val_precision_m: 0.9167 - val_recall_m: 0.1690\n",
            "Epoch 7/25\n",
            "6/6 [==============================] - 91s 14s/step - loss: 1.7209 - acc: 0.3845 - f1_m: 0.1744 - precision_m: 0.9196 - recall_m: 0.0985 - val_loss: 1.6689 - val_acc: 0.3721 - val_f1_m: 0.1750 - val_precision_m: 0.4375 - val_recall_m: 0.1094\n",
            "Epoch 8/25\n",
            "6/6 [==============================] - 91s 14s/step - loss: 1.8022 - acc: 0.3471 - f1_m: 0.2011 - precision_m: 0.8009 - recall_m: 0.1160 - val_loss: 1.6598 - val_acc: 0.4186 - val_f1_m: 0.3224 - val_precision_m: 0.9000 - val_recall_m: 0.1989\n",
            "Epoch 9/25\n",
            "6/6 [==============================] - 92s 14s/step - loss: 1.7181 - acc: 0.3236 - f1_m: 0.2344 - precision_m: 0.8007 - recall_m: 0.1386 - val_loss: 1.6581 - val_acc: 0.3721 - val_f1_m: 0.2780 - val_precision_m: 0.8333 - val_recall_m: 0.1690\n",
            "Epoch 10/25\n",
            "6/6 [==============================] - 91s 14s/step - loss: 1.7102 - acc: 0.3695 - f1_m: 0.2177 - precision_m: 0.9104 - recall_m: 0.1315 - val_loss: 1.6342 - val_acc: 0.3256 - val_f1_m: 0.2780 - val_precision_m: 0.8333 - val_recall_m: 0.1690\n",
            "Epoch 11/25\n",
            "6/6 [==============================] - 91s 14s/step - loss: 1.7153 - acc: 0.3245 - f1_m: 0.2190 - precision_m: 0.8976 - recall_m: 0.1270 - val_loss: 1.6148 - val_acc: 0.5814 - val_f1_m: 0.1750 - val_precision_m: 0.4375 - val_recall_m: 0.1094\n",
            "Epoch 12/25\n",
            "6/6 [==============================] - 91s 14s/step - loss: 1.7052 - acc: 0.3649 - f1_m: 0.2222 - precision_m: 0.8481 - recall_m: 0.1297 - val_loss: 1.6327 - val_acc: 0.5349 - val_f1_m: 0.3224 - val_precision_m: 0.9000 - val_recall_m: 0.1989\n",
            "Epoch 13/25\n",
            "6/6 [==============================] - 91s 14s/step - loss: 1.6779 - acc: 0.3655 - f1_m: 0.2622 - precision_m: 0.8882 - recall_m: 0.1575 - val_loss: 1.5950 - val_acc: 0.4651 - val_f1_m: 0.2372 - val_precision_m: 0.9286 - val_recall_m: 0.1392\n",
            "Epoch 14/25\n",
            "6/6 [==============================] - 91s 14s/step - loss: 1.6679 - acc: 0.3538 - f1_m: 0.2181 - precision_m: 0.8882 - recall_m: 0.1273 - val_loss: 1.6101 - val_acc: 0.4419 - val_f1_m: 0.2348 - val_precision_m: 0.7500 - val_recall_m: 0.1392\n",
            "Epoch 15/25\n",
            "6/6 [==============================] - 91s 14s/step - loss: 1.6125 - acc: 0.4019 - f1_m: 0.2713 - precision_m: 0.8167 - recall_m: 0.1636 - val_loss: 1.5737 - val_acc: 0.5814 - val_f1_m: 0.3224 - val_precision_m: 0.9000 - val_recall_m: 0.1989\n",
            "Epoch 16/25\n",
            "6/6 [==============================] - 91s 15s/step - loss: 1.6486 - acc: 0.3747 - f1_m: 0.2722 - precision_m: 0.8750 - recall_m: 0.1647 - val_loss: 1.5799 - val_acc: 0.3953 - val_f1_m: 0.1750 - val_precision_m: 0.4375 - val_recall_m: 0.1094\n",
            "Epoch 17/25\n",
            "6/6 [==============================] - 91s 14s/step - loss: 1.6577 - acc: 0.3724 - f1_m: 0.2294 - precision_m: 0.9249 - recall_m: 0.1319 - val_loss: 1.5838 - val_acc: 0.5116 - val_f1_m: 0.3224 - val_precision_m: 0.9000 - val_recall_m: 0.1989\n",
            "Epoch 18/25\n",
            "6/6 [==============================] - 91s 14s/step - loss: 1.5540 - acc: 0.4264 - f1_m: 0.2871 - precision_m: 0.9762 - recall_m: 0.1706 - val_loss: 1.5693 - val_acc: 0.4186 - val_f1_m: 0.2780 - val_precision_m: 0.8333 - val_recall_m: 0.1690\n",
            "Epoch 19/25\n",
            "6/6 [==============================] - 101s 14s/step - loss: 1.5764 - acc: 0.4033 - f1_m: 0.2635 - precision_m: 0.8713 - recall_m: 0.1580 - val_loss: 1.5466 - val_acc: 0.5116 - val_f1_m: 0.3224 - val_precision_m: 0.9000 - val_recall_m: 0.1989\n",
            "Epoch 20/25\n",
            "6/6 [==============================] - 92s 14s/step - loss: 1.7082 - acc: 0.3121 - f1_m: 0.1811 - precision_m: 0.7557 - recall_m: 0.1068 - val_loss: 1.5467 - val_acc: 0.4186 - val_f1_m: 0.2372 - val_precision_m: 0.9286 - val_recall_m: 0.1392\n",
            "Epoch 21/25\n",
            "6/6 [==============================] - 91s 14s/step - loss: 1.5545 - acc: 0.4323 - f1_m: 0.2424 - precision_m: 0.8165 - recall_m: 0.1431 - val_loss: 1.5384 - val_acc: 0.5814 - val_f1_m: 0.2854 - val_precision_m: 0.9167 - val_recall_m: 0.1690\n",
            "Epoch 22/25\n",
            "6/6 [==============================] - 91s 15s/step - loss: 1.6038 - acc: 0.3706 - f1_m: 0.2491 - precision_m: 0.7228 - recall_m: 0.1525 - val_loss: 1.5395 - val_acc: 0.5116 - val_f1_m: 0.2854 - val_precision_m: 0.9167 - val_recall_m: 0.1690\n",
            "Epoch 23/25\n",
            "6/6 [==============================] - 91s 14s/step - loss: 1.5491 - acc: 0.4109 - f1_m: 0.2239 - precision_m: 0.9268 - recall_m: 0.1310 - val_loss: 1.5397 - val_acc: 0.5814 - val_f1_m: 0.2854 - val_precision_m: 0.9167 - val_recall_m: 0.1690\n",
            "Epoch 24/25\n",
            "6/6 [==============================] - 91s 14s/step - loss: 1.5615 - acc: 0.4319 - f1_m: 0.2651 - precision_m: 0.9275 - recall_m: 0.1590 - val_loss: 1.5222 - val_acc: 0.5814 - val_f1_m: 0.3111 - val_precision_m: 0.8750 - val_recall_m: 0.1989\n",
            "Epoch 25/25\n",
            "6/6 [==============================] - 91s 14s/step - loss: 1.5139 - acc: 0.4111 - f1_m: 0.2642 - precision_m: 0.9311 - recall_m: 0.1574 - val_loss: 1.5129 - val_acc: 0.5814 - val_f1_m: 0.3500 - val_precision_m: 0.8750 - val_recall_m: 0.2287\n"
          ],
          "name": "stdout"
        }
      ]
    },
    {
      "cell_type": "code",
      "metadata": {
        "colab": {
          "base_uri": "https://localhost:8080/"
        },
        "id": "SRUCBFa247_K",
        "outputId": "61d8eaff-b61a-4df0-ce39-34087167654f"
      },
      "source": [
        "model.evaluate_generator(test_generator)"
      ],
      "execution_count": 127,
      "outputs": [
        {
          "output_type": "stream",
          "text": [
            "/usr/local/lib/python3.7/dist-packages/tensorflow/python/keras/engine/training.py:1877: UserWarning: `Model.evaluate_generator` is deprecated and will be removed in a future version. Please use `Model.evaluate`, which supports generators.\n",
            "  warnings.warn('`Model.evaluate_generator` is deprecated and '\n"
          ],
          "name": "stderr"
        },
        {
          "output_type": "execute_result",
          "data": {
            "text/plain": [
              "[1.5128626823425293,\n",
              " 0.5813953280448914,\n",
              " 0.285425066947937,\n",
              " 0.9166666269302368,\n",
              " 0.16903409361839294]"
            ]
          },
          "metadata": {
            "tags": []
          },
          "execution_count": 127
        }
      ]
    },
    {
      "cell_type": "code",
      "metadata": {
        "colab": {
          "base_uri": "https://localhost:8080/",
          "height": 283
        },
        "id": "twBnJvPjvjU7",
        "outputId": "0105fa0a-ab1f-445c-fdb8-947de81ea8aa"
      },
      "source": [
        "lr_finder.plot_loss()"
      ],
      "execution_count": null,
      "outputs": [
        {
          "output_type": "display_data",
          "data": {
            "image/png": "[encoded data removed]",
            "text/plain": [
              "<Figure size 432x288 with 1 Axes>"
            ]
          },
          "metadata": {
            "tags": [],
            "needs_background": "light"
          }
        }
      ]
    },
    {
      "cell_type": "code",
      "metadata": {
        "colab": {
          "base_uri": "https://localhost:8080/"
        },
        "id": "O4HdCIucxa8I",
        "outputId": "36b8b9eb-71cc-4c42-bc0b-72a86e581f63"
      },
      "source": [
        "predictions = model.predict_generator(test_generator, steps=test_steps_per_epoch)\r\n",
        "# Get most likely class\r\n",
        "predicted_classes = np.argmax(predictions, axis=1)"
      ],
      "execution_count": 128,
      "outputs": [
        {
          "output_type": "stream",
          "text": [
            "/usr/local/lib/python3.7/dist-packages/tensorflow/python/keras/engine/training.py:1905: UserWarning: `Model.predict_generator` is deprecated and will be removed in a future version. Please use `Model.predict`, which supports generators.\n",
            "  warnings.warn('`Model.predict_generator` is deprecated and '\n"
          ],
          "name": "stderr"
        }
      ]
    },
    {
      "cell_type": "code",
      "metadata": {
        "id": "FzZyS-LRxlJk"
      },
      "source": [
        "true_classes = test_generator.classes\r\n",
        "class_labels = list(test_generator.class_indices.keys())"
      ],
      "execution_count": 129,
      "outputs": []
    },
    {
      "cell_type": "code",
      "metadata": {
        "colab": {
          "base_uri": "https://localhost:8080/"
        },
        "id": "thY9IP02xtjy",
        "outputId": "013f43c3-7695-42d9-e277-8a0954781e87"
      },
      "source": [
        "import sklearn.metrics as metrics\r\n",
        "\r\n",
        "\r\n",
        "report = metrics.classification_report(true_classes, predicted_classes, target_names=class_labels)\r\n",
        "print(report) "
      ],
      "execution_count": 130,
      "outputs": [
        {
          "output_type": "stream",
          "text": [
            "              precision    recall  f1-score   support\n",
            "\n",
            "           0       0.00      0.00      0.00         3\n",
            "           1       0.08      0.14      0.11         7\n",
            "           2       0.00      0.00      0.00         5\n",
            "           3       0.00      0.00      0.00         5\n",
            "           4       0.00      0.00      0.00         5\n",
            "           5       0.00      0.00      0.00         5\n",
            "           6       0.25      0.29      0.27         7\n",
            "           7       0.17      0.50      0.25         6\n",
            "\n",
            "    accuracy                           0.14        43\n",
            "   macro avg       0.06      0.12      0.08        43\n",
            "weighted avg       0.08      0.14      0.10        43\n",
            "\n"
          ],
          "name": "stdout"
        },
        {
          "output_type": "stream",
          "text": [
            "/usr/local/lib/python3.7/dist-packages/sklearn/metrics/_classification.py:1272: UndefinedMetricWarning: Precision and F-score are ill-defined and being set to 0.0 in labels with no predicted samples. Use `zero_division` parameter to control this behavior.\n",
            "  _warn_prf(average, modifier, msg_start, len(result))\n"
          ],
          "name": "stderr"
        }
      ]
    },
    {
      "cell_type": "code",
      "metadata": {
        "colab": {
          "base_uri": "https://localhost:8080/"
        },
        "id": "hzeLVzEvrvw5",
        "outputId": "cc1ed4cc-2c3e-4145-cfaa-f67202cd2933"
      },
      "source": [
        "plt.plot"
      ],
      "execution_count": 131,
      "outputs": [
        {
          "output_type": "execute_result",
          "data": {
            "text/plain": [
              "<function matplotlib.pyplot.plot>"
            ]
          },
          "metadata": {
            "tags": []
          },
          "execution_count": 131
        }
      ]
    },
    {
      "cell_type": "code",
      "metadata": {
        "colab": {
          "base_uri": "https://localhost:8080/",
          "height": 276
        },
        "id": "5k6C0ieOKN-3",
        "outputId": "5b9a73a0-7c52-497d-81cb-c2a90abbd934"
      },
      "source": [
        "plt.figure(1, figsize = (15,8)) \r\n",
        "    \r\n",
        "plt.subplot(221)  \r\n",
        "plt.plot(resnet_history.history['acc'])  \r\n",
        "plt.plot(resnet_history.history['val_acc'])  \r\n",
        "plt.title('model accuracy')  \r\n",
        "plt.ylabel('accuracy')  \r\n",
        "plt.xlabel('epoch')  \r\n",
        "plt.legend(['train', 'test']) \r\n",
        "    \r\n",
        "plt.subplot(222)  \r\n",
        "plt.plot(resnet_history.history['loss'])  \r\n",
        "plt.plot(resnet_history.history['val_loss'])  \r\n",
        "plt.title('model loss')  \r\n",
        "plt.ylabel('loss')  \r\n",
        "plt.xlabel('epoch')  \r\n",
        "plt.legend(['train', 'test']) \r\n",
        "\r\n",
        "plt.show()"
      ],
      "execution_count": 132,
      "outputs": [
        {
          "output_type": "display_data",
          "data": {
            "image/png": "[encoded data removed]",
            "text/plain": [
              "<Figure size 1080x576 with 2 Axes>"
            ]
          },
          "metadata": {
            "tags": [],
            "needs_background": "light"
          }
        }
      ]
    },
    {
      "cell_type": "code",
      "metadata": {
        "colab": {
          "base_uri": "https://localhost:8080/",
          "height": 293
        },
        "id": "TCjCOQNWrOAS",
        "outputId": "ae3e21c4-187d-4ef7-e4da-014e798a1bbd"
      },
      "source": [
        "plt.figure(1, figsize = (15,8)) \r\n",
        "    \r\n",
        "plt.subplot(221)  \r\n",
        "plt.plot(resnet_history.history['precision_m'])  \r\n",
        "plt.plot(resnet_history.history['val_precision_m'])  \r\n",
        "plt.title('model precision')  \r\n",
        "plt.ylabel('precision')  \r\n",
        "plt.xlabel('epoch')  \r\n",
        "plt.legend(['train', 'test']) \r\n",
        "\r\n",
        "plt.subplot(222)  \r\n",
        "plt.plot(resnet_history.history['recall_m'])  \r\n",
        "plt.plot(resnet_history.history['val_recall_m'])  \r\n",
        "plt.title('model recall')  \r\n",
        "plt.ylabel('recall')  \r\n",
        "plt.xlabel('epoch')  \r\n",
        "plt.legend(['train', 'test']) "
      ],
      "execution_count": 135,
      "outputs": [
        {
          "output_type": "execute_result",
          "data": {
            "text/plain": [
              "<matplotlib.legend.Legend at 0x7ff289852f90>"
            ]
          },
          "metadata": {
            "tags": []
          },
          "execution_count": 135
        },
        {
          "output_type": "display_data",
          "data": {
            "image/png": "[encoded data removed]",
            "text/plain": [
              "<Figure size 1080x576 with 2 Axes>"
            ]
          },
          "metadata": {
            "tags": [],
            "needs_background": "light"
          }
        }
      ]
    },
    {
      "cell_type": "code",
      "metadata": {
        "colab": {
          "base_uri": "https://localhost:8080/",
          "height": 293
        },
        "id": "HgKQFWdFsSqz",
        "outputId": "91dcecd4-1c6c-42bc-85a6-9c4fc5ef61ed"
      },
      "source": [
        "plt.figure(1, figsize = (15,8)) \r\n",
        "    \r\n",
        "plt.subplot(221)  \r\n",
        "plt.plot(resnet_history.history['f1_m'])  \r\n",
        "plt.plot(resnet_history.history['val_f1_m'])  \r\n",
        "plt.title('model f1 score')  \r\n",
        "plt.ylabel('f1 score')  \r\n",
        "plt.xlabel('epoch')  \r\n",
        "plt.legend(['train', 'test'])"
      ],
      "execution_count": 136,
      "outputs": [
        {
          "output_type": "execute_result",
          "data": {
            "text/plain": [
              "<matplotlib.legend.Legend at 0x7ff293ad3a10>"
            ]
          },
          "metadata": {
            "tags": []
          },
          "execution_count": 136
        },
        {
          "output_type": "display_data",
          "data": {
            "image/png": "[encoded data removed]",
            "text/plain": [
              "<Figure size 1080x576 with 1 Axes>"
            ]
          },
          "metadata": {
            "tags": [],
            "needs_background": "light"
          }
        }
      ]
    },
    {
      "cell_type": "code",
      "metadata": {
        "colab": {
          "base_uri": "https://localhost:8080/"
        },
        "id": "eoRKEN6k8S-_",
        "outputId": "ca4dd57b-d480-445f-bf26-37ae2ad9bba2"
      },
      "source": [
        "model.summary()"
      ],
      "execution_count": null,
      "outputs": [
        {
          "output_type": "stream",
          "text": [
            "Model: \"model_3\"\n",
            "__________________________________________________________________________________________________\n",
            "Layer (type)                    Output Shape         Param #     Connected to                     \n",
            "==================================================================================================\n",
            "input_8 (InputLayer)            [(None, 224, 224, 3) 0                                            \n",
            "__________________________________________________________________________________________________\n",
            "conv1_pad (ZeroPadding2D)       (None, 230, 230, 3)  0           input_8[0][0]                    \n",
            "__________________________________________________________________________________________________\n",
            "conv1_conv (Conv2D)             (None, 112, 112, 64) 9472        conv1_pad[0][0]                  \n",
            "__________________________________________________________________________________________________\n",
            "conv1_bn (BatchNormalization)   (None, 112, 112, 64) 256         conv1_conv[0][0]                 \n",
            "__________________________________________________________________________________________________\n",
            "conv1_relu (Activation)         (None, 112, 112, 64) 0           conv1_bn[0][0]                   \n",
            "__________________________________________________________________________________________________\n",
            "pool1_pad (ZeroPadding2D)       (None, 114, 114, 64) 0           conv1_relu[0][0]                 \n",
            "__________________________________________________________________________________________________\n",
            "pool1_pool (MaxPooling2D)       (None, 56, 56, 64)   0           pool1_pad[0][0]                  \n",
            "__________________________________________________________________________________________________\n",
            "conv2_block1_1_conv (Conv2D)    (None, 56, 56, 64)   4160        pool1_pool[0][0]                 \n",
            "__________________________________________________________________________________________________\n",
            "conv2_block1_1_bn (BatchNormali (None, 56, 56, 64)   256         conv2_block1_1_conv[0][0]        \n",
            "__________________________________________________________________________________________________\n",
            "conv2_block1_1_relu (Activation (None, 56, 56, 64)   0           conv2_block1_1_bn[0][0]          \n",
            "__________________________________________________________________________________________________\n",
            "conv2_block1_2_conv (Conv2D)    (None, 56, 56, 64)   36928       conv2_block1_1_relu[0][0]        \n",
            "__________________________________________________________________________________________________\n",
            "conv2_block1_2_bn (BatchNormali (None, 56, 56, 64)   256         conv2_block1_2_conv[0][0]        \n",
            "__________________________________________________________________________________________________\n",
            "conv2_block1_2_relu (Activation (None, 56, 56, 64)   0           conv2_block1_2_bn[0][0]          \n",
            "__________________________________________________________________________________________________\n",
            "conv2_block1_0_conv (Conv2D)    (None, 56, 56, 256)  16640       pool1_pool[0][0]                 \n",
            "__________________________________________________________________________________________________\n",
            "conv2_block1_3_conv (Conv2D)    (None, 56, 56, 256)  16640       conv2_block1_2_relu[0][0]        \n",
            "__________________________________________________________________________________________________\n",
            "conv2_block1_0_bn (BatchNormali (None, 56, 56, 256)  1024        conv2_block1_0_conv[0][0]        \n",
            "__________________________________________________________________________________________________\n",
            "conv2_block1_3_bn (BatchNormali (None, 56, 56, 256)  1024        conv2_block1_3_conv[0][0]        \n",
            "__________________________________________________________________________________________________\n",
            "conv2_block1_add (Add)          (None, 56, 56, 256)  0           conv2_block1_0_bn[0][0]          \n",
            "                                                                 conv2_block1_3_bn[0][0]          \n",
            "__________________________________________________________________________________________________\n",
            "conv2_block1_out (Activation)   (None, 56, 56, 256)  0           conv2_block1_add[0][0]           \n",
            "__________________________________________________________________________________________________\n",
            "conv2_block2_1_conv (Conv2D)    (None, 56, 56, 64)   16448       conv2_block1_out[0][0]           \n",
            "__________________________________________________________________________________________________\n",
            "conv2_block2_1_bn (BatchNormali (None, 56, 56, 64)   256         conv2_block2_1_conv[0][0]        \n",
            "__________________________________________________________________________________________________\n",
            "conv2_block2_1_relu (Activation (None, 56, 56, 64)   0           conv2_block2_1_bn[0][0]          \n",
            "__________________________________________________________________________________________________\n",
            "conv2_block2_2_conv (Conv2D)    (None, 56, 56, 64)   36928       conv2_block2_1_relu[0][0]        \n",
            "__________________________________________________________________________________________________\n",
            "conv2_block2_2_bn (BatchNormali (None, 56, 56, 64)   256         conv2_block2_2_conv[0][0]        \n",
            "__________________________________________________________________________________________________\n",
            "conv2_block2_2_relu (Activation (None, 56, 56, 64)   0           conv2_block2_2_bn[0][0]          \n",
            "__________________________________________________________________________________________________\n",
            "conv2_block2_3_conv (Conv2D)    (None, 56, 56, 256)  16640       conv2_block2_2_relu[0][0]        \n",
            "__________________________________________________________________________________________________\n",
            "conv2_block2_3_bn (BatchNormali (None, 56, 56, 256)  1024        conv2_block2_3_conv[0][0]        \n",
            "__________________________________________________________________________________________________\n",
            "conv2_block2_add (Add)          (None, 56, 56, 256)  0           conv2_block1_out[0][0]           \n",
            "                                                                 conv2_block2_3_bn[0][0]          \n",
            "__________________________________________________________________________________________________\n",
            "conv2_block2_out (Activation)   (None, 56, 56, 256)  0           conv2_block2_add[0][0]           \n",
            "__________________________________________________________________________________________________\n",
            "conv2_block3_1_conv (Conv2D)    (None, 56, 56, 64)   16448       conv2_block2_out[0][0]           \n",
            "__________________________________________________________________________________________________\n",
            "conv2_block3_1_bn (BatchNormali (None, 56, 56, 64)   256         conv2_block3_1_conv[0][0]        \n",
            "__________________________________________________________________________________________________\n",
            "conv2_block3_1_relu (Activation (None, 56, 56, 64)   0           conv2_block3_1_bn[0][0]          \n",
            "__________________________________________________________________________________________________\n",
            "conv2_block3_2_conv (Conv2D)    (None, 56, 56, 64)   36928       conv2_block3_1_relu[0][0]        \n",
            "__________________________________________________________________________________________________\n",
            "conv2_block3_2_bn (BatchNormali (None, 56, 56, 64)   256         conv2_block3_2_conv[0][0]        \n",
            "__________________________________________________________________________________________________\n",
            "conv2_block3_2_relu (Activation (None, 56, 56, 64)   0           conv2_block3_2_bn[0][0]          \n",
            "__________________________________________________________________________________________________\n",
            "conv2_block3_3_conv (Conv2D)    (None, 56, 56, 256)  16640       conv2_block3_2_relu[0][0]        \n",
            "__________________________________________________________________________________________________\n",
            "conv2_block3_3_bn (BatchNormali (None, 56, 56, 256)  1024        conv2_block3_3_conv[0][0]        \n",
            "__________________________________________________________________________________________________\n",
            "conv2_block3_add (Add)          (None, 56, 56, 256)  0           conv2_block2_out[0][0]           \n",
            "                                                                 conv2_block3_3_bn[0][0]          \n",
            "__________________________________________________________________________________________________\n",
            "conv2_block3_out (Activation)   (None, 56, 56, 256)  0           conv2_block3_add[0][0]           \n",
            "__________________________________________________________________________________________________\n",
            "conv3_block1_1_conv (Conv2D)    (None, 28, 28, 128)  32896       conv2_block3_out[0][0]           \n",
            "__________________________________________________________________________________________________\n",
            "conv3_block1_1_bn (BatchNormali (None, 28, 28, 128)  512         conv3_block1_1_conv[0][0]        \n",
            "__________________________________________________________________________________________________\n",
            "conv3_block1_1_relu (Activation (None, 28, 28, 128)  0           conv3_block1_1_bn[0][0]          \n",
            "__________________________________________________________________________________________________\n",
            "conv3_block1_2_conv (Conv2D)    (None, 28, 28, 128)  147584      conv3_block1_1_relu[0][0]        \n",
            "__________________________________________________________________________________________________\n",
            "conv3_block1_2_bn (BatchNormali (None, 28, 28, 128)  512         conv3_block1_2_conv[0][0]        \n",
            "__________________________________________________________________________________________________\n",
            "conv3_block1_2_relu (Activation (None, 28, 28, 128)  0           conv3_block1_2_bn[0][0]          \n",
            "__________________________________________________________________________________________________\n",
            "conv3_block1_0_conv (Conv2D)    (None, 28, 28, 512)  131584      conv2_block3_out[0][0]           \n",
            "__________________________________________________________________________________________________\n",
            "conv3_block1_3_conv (Conv2D)    (None, 28, 28, 512)  66048       conv3_block1_2_relu[0][0]        \n",
            "__________________________________________________________________________________________________\n",
            "conv3_block1_0_bn (BatchNormali (None, 28, 28, 512)  2048        conv3_block1_0_conv[0][0]        \n",
            "__________________________________________________________________________________________________\n",
            "conv3_block1_3_bn (BatchNormali (None, 28, 28, 512)  2048        conv3_block1_3_conv[0][0]        \n",
            "__________________________________________________________________________________________________\n",
            "conv3_block1_add (Add)          (None, 28, 28, 512)  0           conv3_block1_0_bn[0][0]          \n",
            "                                                                 conv3_block1_3_bn[0][0]          \n",
            "__________________________________________________________________________________________________\n",
            "conv3_block1_out (Activation)   (None, 28, 28, 512)  0           conv3_block1_add[0][0]           \n",
            "__________________________________________________________________________________________________\n",
            "conv3_block2_1_conv (Conv2D)    (None, 28, 28, 128)  65664       conv3_block1_out[0][0]           \n",
            "__________________________________________________________________________________________________\n",
            "conv3_block2_1_bn (BatchNormali (None, 28, 28, 128)  512         conv3_block2_1_conv[0][0]        \n",
            "__________________________________________________________________________________________________\n",
            "conv3_block2_1_relu (Activation (None, 28, 28, 128)  0           conv3_block2_1_bn[0][0]          \n",
            "__________________________________________________________________________________________________\n",
            "conv3_block2_2_conv (Conv2D)    (None, 28, 28, 128)  147584      conv3_block2_1_relu[0][0]        \n",
            "__________________________________________________________________________________________________\n",
            "conv3_block2_2_bn (BatchNormali (None, 28, 28, 128)  512         conv3_block2_2_conv[0][0]        \n",
            "__________________________________________________________________________________________________\n",
            "conv3_block2_2_relu (Activation (None, 28, 28, 128)  0           conv3_block2_2_bn[0][0]          \n",
            "__________________________________________________________________________________________________\n",
            "conv3_block2_3_conv (Conv2D)    (None, 28, 28, 512)  66048       conv3_block2_2_relu[0][0]        \n",
            "__________________________________________________________________________________________________\n",
            "conv3_block2_3_bn (BatchNormali (None, 28, 28, 512)  2048        conv3_block2_3_conv[0][0]        \n",
            "__________________________________________________________________________________________________\n",
            "conv3_block2_add (Add)          (None, 28, 28, 512)  0           conv3_block1_out[0][0]           \n",
            "                                                                 conv3_block2_3_bn[0][0]          \n",
            "__________________________________________________________________________________________________\n",
            "conv3_block2_out (Activation)   (None, 28, 28, 512)  0           conv3_block2_add[0][0]           \n",
            "__________________________________________________________________________________________________\n",
            "conv3_block3_1_conv (Conv2D)    (None, 28, 28, 128)  65664       conv3_block2_out[0][0]           \n",
            "__________________________________________________________________________________________________\n",
            "conv3_block3_1_bn (BatchNormali (None, 28, 28, 128)  512         conv3_block3_1_conv[0][0]        \n",
            "__________________________________________________________________________________________________\n",
            "conv3_block3_1_relu (Activation (None, 28, 28, 128)  0           conv3_block3_1_bn[0][0]          \n",
            "__________________________________________________________________________________________________\n",
            "conv3_block3_2_conv (Conv2D)    (None, 28, 28, 128)  147584      conv3_block3_1_relu[0][0]        \n",
            "__________________________________________________________________________________________________\n",
            "conv3_block3_2_bn (BatchNormali (None, 28, 28, 128)  512         conv3_block3_2_conv[0][0]        \n",
            "__________________________________________________________________________________________________\n",
            "conv3_block3_2_relu (Activation (None, 28, 28, 128)  0           conv3_block3_2_bn[0][0]          \n",
            "__________________________________________________________________________________________________\n",
            "conv3_block3_3_conv (Conv2D)    (None, 28, 28, 512)  66048       conv3_block3_2_relu[0][0]        \n",
            "__________________________________________________________________________________________________\n",
            "conv3_block3_3_bn (BatchNormali (None, 28, 28, 512)  2048        conv3_block3_3_conv[0][0]        \n",
            "__________________________________________________________________________________________________\n",
            "conv3_block3_add (Add)          (None, 28, 28, 512)  0           conv3_block2_out[0][0]           \n",
            "                                                                 conv3_block3_3_bn[0][0]          \n",
            "__________________________________________________________________________________________________\n",
            "conv3_block3_out (Activation)   (None, 28, 28, 512)  0           conv3_block3_add[0][0]           \n",
            "__________________________________________________________________________________________________\n",
            "conv3_block4_1_conv (Conv2D)    (None, 28, 28, 128)  65664       conv3_block3_out[0][0]           \n",
            "__________________________________________________________________________________________________\n",
            "conv3_block4_1_bn (BatchNormali (None, 28, 28, 128)  512         conv3_block4_1_conv[0][0]        \n",
            "__________________________________________________________________________________________________\n",
            "conv3_block4_1_relu (Activation (None, 28, 28, 128)  0           conv3_block4_1_bn[0][0]          \n",
            "__________________________________________________________________________________________________\n",
            "conv3_block4_2_conv (Conv2D)    (None, 28, 28, 128)  147584      conv3_block4_1_relu[0][0]        \n",
            "__________________________________________________________________________________________________\n",
            "conv3_block4_2_bn (BatchNormali (None, 28, 28, 128)  512         conv3_block4_2_conv[0][0]        \n",
            "__________________________________________________________________________________________________\n",
            "conv3_block4_2_relu (Activation (None, 28, 28, 128)  0           conv3_block4_2_bn[0][0]          \n",
            "__________________________________________________________________________________________________\n",
            "conv3_block4_3_conv (Conv2D)    (None, 28, 28, 512)  66048       conv3_block4_2_relu[0][0]        \n",
            "__________________________________________________________________________________________________\n",
            "conv3_block4_3_bn (BatchNormali (None, 28, 28, 512)  2048        conv3_block4_3_conv[0][0]        \n",
            "__________________________________________________________________________________________________\n",
            "conv3_block4_add (Add)          (None, 28, 28, 512)  0           conv3_block3_out[0][0]           \n",
            "                                                                 conv3_block4_3_bn[0][0]          \n",
            "__________________________________________________________________________________________________\n",
            "conv3_block4_out (Activation)   (None, 28, 28, 512)  0           conv3_block4_add[0][0]           \n",
            "__________________________________________________________________________________________________\n",
            "conv4_block1_1_conv (Conv2D)    (None, 14, 14, 256)  131328      conv3_block4_out[0][0]           \n",
            "__________________________________________________________________________________________________\n",
            "conv4_block1_1_bn (BatchNormali (None, 14, 14, 256)  1024        conv4_block1_1_conv[0][0]        \n",
            "__________________________________________________________________________________________________\n",
            "conv4_block1_1_relu (Activation (None, 14, 14, 256)  0           conv4_block1_1_bn[0][0]          \n",
            "__________________________________________________________________________________________________\n",
            "conv4_block1_2_conv (Conv2D)    (None, 14, 14, 256)  590080      conv4_block1_1_relu[0][0]        \n",
            "__________________________________________________________________________________________________\n",
            "conv4_block1_2_bn (BatchNormali (None, 14, 14, 256)  1024        conv4_block1_2_conv[0][0]        \n",
            "__________________________________________________________________________________________________\n",
            "conv4_block1_2_relu (Activation (None, 14, 14, 256)  0           conv4_block1_2_bn[0][0]          \n",
            "__________________________________________________________________________________________________\n",
            "conv4_block1_0_conv (Conv2D)    (None, 14, 14, 1024) 525312      conv3_block4_out[0][0]           \n",
            "__________________________________________________________________________________________________\n",
            "conv4_block1_3_conv (Conv2D)    (None, 14, 14, 1024) 263168      conv4_block1_2_relu[0][0]        \n",
            "__________________________________________________________________________________________________\n",
            "conv4_block1_0_bn (BatchNormali (None, 14, 14, 1024) 4096        conv4_block1_0_conv[0][0]        \n",
            "__________________________________________________________________________________________________\n",
            "conv4_block1_3_bn (BatchNormali (None, 14, 14, 1024) 4096        conv4_block1_3_conv[0][0]        \n",
            "__________________________________________________________________________________________________\n",
            "conv4_block1_add (Add)          (None, 14, 14, 1024) 0           conv4_block1_0_bn[0][0]          \n",
            "                                                                 conv4_block1_3_bn[0][0]          \n",
            "__________________________________________________________________________________________________\n",
            "conv4_block1_out (Activation)   (None, 14, 14, 1024) 0           conv4_block1_add[0][0]           \n",
            "__________________________________________________________________________________________________\n",
            "conv4_block2_1_conv (Conv2D)    (None, 14, 14, 256)  262400      conv4_block1_out[0][0]           \n",
            "__________________________________________________________________________________________________\n",
            "conv4_block2_1_bn (BatchNormali (None, 14, 14, 256)  1024        conv4_block2_1_conv[0][0]        \n",
            "__________________________________________________________________________________________________\n",
            "conv4_block2_1_relu (Activation (None, 14, 14, 256)  0           conv4_block2_1_bn[0][0]          \n",
            "__________________________________________________________________________________________________\n",
            "conv4_block2_2_conv (Conv2D)    (None, 14, 14, 256)  590080      conv4_block2_1_relu[0][0]        \n",
            "__________________________________________________________________________________________________\n",
            "conv4_block2_2_bn (BatchNormali (None, 14, 14, 256)  1024        conv4_block2_2_conv[0][0]        \n",
            "__________________________________________________________________________________________________\n",
            "conv4_block2_2_relu (Activation (None, 14, 14, 256)  0           conv4_block2_2_bn[0][0]          \n",
            "__________________________________________________________________________________________________\n",
            "conv4_block2_3_conv (Conv2D)    (None, 14, 14, 1024) 263168      conv4_block2_2_relu[0][0]        \n",
            "__________________________________________________________________________________________________\n",
            "conv4_block2_3_bn (BatchNormali (None, 14, 14, 1024) 4096        conv4_block2_3_conv[0][0]        \n",
            "__________________________________________________________________________________________________\n",
            "conv4_block2_add (Add)          (None, 14, 14, 1024) 0           conv4_block1_out[0][0]           \n",
            "                                                                 conv4_block2_3_bn[0][0]          \n",
            "__________________________________________________________________________________________________\n",
            "conv4_block2_out (Activation)   (None, 14, 14, 1024) 0           conv4_block2_add[0][0]           \n",
            "__________________________________________________________________________________________________\n",
            "conv4_block3_1_conv (Conv2D)    (None, 14, 14, 256)  262400      conv4_block2_out[0][0]           \n",
            "__________________________________________________________________________________________________\n",
            "conv4_block3_1_bn (BatchNormali (None, 14, 14, 256)  1024        conv4_block3_1_conv[0][0]        \n",
            "__________________________________________________________________________________________________\n",
            "conv4_block3_1_relu (Activation (None, 14, 14, 256)  0           conv4_block3_1_bn[0][0]          \n",
            "__________________________________________________________________________________________________\n",
            "conv4_block3_2_conv (Conv2D)    (None, 14, 14, 256)  590080      conv4_block3_1_relu[0][0]        \n",
            "__________________________________________________________________________________________________\n",
            "conv4_block3_2_bn (BatchNormali (None, 14, 14, 256)  1024        conv4_block3_2_conv[0][0]        \n",
            "__________________________________________________________________________________________________\n",
            "conv4_block3_2_relu (Activation (None, 14, 14, 256)  0           conv4_block3_2_bn[0][0]          \n",
            "__________________________________________________________________________________________________\n",
            "conv4_block3_3_conv (Conv2D)    (None, 14, 14, 1024) 263168      conv4_block3_2_relu[0][0]        \n",
            "__________________________________________________________________________________________________\n",
            "conv4_block3_3_bn (BatchNormali (None, 14, 14, 1024) 4096        conv4_block3_3_conv[0][0]        \n",
            "__________________________________________________________________________________________________\n",
            "conv4_block3_add (Add)          (None, 14, 14, 1024) 0           conv4_block2_out[0][0]           \n",
            "                                                                 conv4_block3_3_bn[0][0]          \n",
            "__________________________________________________________________________________________________\n",
            "conv4_block3_out (Activation)   (None, 14, 14, 1024) 0           conv4_block3_add[0][0]           \n",
            "__________________________________________________________________________________________________\n",
            "conv4_block4_1_conv (Conv2D)    (None, 14, 14, 256)  262400      conv4_block3_out[0][0]           \n",
            "__________________________________________________________________________________________________\n",
            "conv4_block4_1_bn (BatchNormali (None, 14, 14, 256)  1024        conv4_block4_1_conv[0][0]        \n",
            "__________________________________________________________________________________________________\n",
            "conv4_block4_1_relu (Activation (None, 14, 14, 256)  0           conv4_block4_1_bn[0][0]          \n",
            "__________________________________________________________________________________________________\n",
            "conv4_block4_2_conv (Conv2D)    (None, 14, 14, 256)  590080      conv4_block4_1_relu[0][0]        \n",
            "__________________________________________________________________________________________________\n",
            "conv4_block4_2_bn (BatchNormali (None, 14, 14, 256)  1024        conv4_block4_2_conv[0][0]        \n",
            "__________________________________________________________________________________________________\n",
            "conv4_block4_2_relu (Activation (None, 14, 14, 256)  0           conv4_block4_2_bn[0][0]          \n",
            "__________________________________________________________________________________________________\n",
            "conv4_block4_3_conv (Conv2D)    (None, 14, 14, 1024) 263168      conv4_block4_2_relu[0][0]        \n",
            "__________________________________________________________________________________________________\n",
            "conv4_block4_3_bn (BatchNormali (None, 14, 14, 1024) 4096        conv4_block4_3_conv[0][0]        \n",
            "__________________________________________________________________________________________________\n",
            "conv4_block4_add (Add)          (None, 14, 14, 1024) 0           conv4_block3_out[0][0]           \n",
            "                                                                 conv4_block4_3_bn[0][0]          \n",
            "__________________________________________________________________________________________________\n",
            "conv4_block4_out (Activation)   (None, 14, 14, 1024) 0           conv4_block4_add[0][0]           \n",
            "__________________________________________________________________________________________________\n",
            "conv4_block5_1_conv (Conv2D)    (None, 14, 14, 256)  262400      conv4_block4_out[0][0]           \n",
            "__________________________________________________________________________________________________\n",
            "conv4_block5_1_bn (BatchNormali (None, 14, 14, 256)  1024        conv4_block5_1_conv[0][0]        \n",
            "__________________________________________________________________________________________________\n",
            "conv4_block5_1_relu (Activation (None, 14, 14, 256)  0           conv4_block5_1_bn[0][0]          \n",
            "__________________________________________________________________________________________________\n",
            "conv4_block5_2_conv (Conv2D)    (None, 14, 14, 256)  590080      conv4_block5_1_relu[0][0]        \n",
            "__________________________________________________________________________________________________\n",
            "conv4_block5_2_bn (BatchNormali (None, 14, 14, 256)  1024        conv4_block5_2_conv[0][0]        \n",
            "__________________________________________________________________________________________________\n",
            "conv4_block5_2_relu (Activation (None, 14, 14, 256)  0           conv4_block5_2_bn[0][0]          \n",
            "__________________________________________________________________________________________________\n",
            "conv4_block5_3_conv (Conv2D)    (None, 14, 14, 1024) 263168      conv4_block5_2_relu[0][0]        \n",
            "__________________________________________________________________________________________________\n",
            "conv4_block5_3_bn (BatchNormali (None, 14, 14, 1024) 4096        conv4_block5_3_conv[0][0]        \n",
            "__________________________________________________________________________________________________\n",
            "conv4_block5_add (Add)          (None, 14, 14, 1024) 0           conv4_block4_out[0][0]           \n",
            "                                                                 conv4_block5_3_bn[0][0]          \n",
            "__________________________________________________________________________________________________\n",
            "conv4_block5_out (Activation)   (None, 14, 14, 1024) 0           conv4_block5_add[0][0]           \n",
            "__________________________________________________________________________________________________\n",
            "conv4_block6_1_conv (Conv2D)    (None, 14, 14, 256)  262400      conv4_block5_out[0][0]           \n",
            "__________________________________________________________________________________________________\n",
            "conv4_block6_1_bn (BatchNormali (None, 14, 14, 256)  1024        conv4_block6_1_conv[0][0]        \n",
            "__________________________________________________________________________________________________\n",
            "conv4_block6_1_relu (Activation (None, 14, 14, 256)  0           conv4_block6_1_bn[0][0]          \n",
            "__________________________________________________________________________________________________\n",
            "conv4_block6_2_conv (Conv2D)    (None, 14, 14, 256)  590080      conv4_block6_1_relu[0][0]        \n",
            "__________________________________________________________________________________________________\n",
            "conv4_block6_2_bn (BatchNormali (None, 14, 14, 256)  1024        conv4_block6_2_conv[0][0]        \n",
            "__________________________________________________________________________________________________\n",
            "conv4_block6_2_relu (Activation (None, 14, 14, 256)  0           conv4_block6_2_bn[0][0]          \n",
            "__________________________________________________________________________________________________\n",
            "conv4_block6_3_conv (Conv2D)    (None, 14, 14, 1024) 263168      conv4_block6_2_relu[0][0]        \n",
            "__________________________________________________________________________________________________\n",
            "conv4_block6_3_bn (BatchNormali (None, 14, 14, 1024) 4096        conv4_block6_3_conv[0][0]        \n",
            "__________________________________________________________________________________________________\n",
            "conv4_block6_add (Add)          (None, 14, 14, 1024) 0           conv4_block5_out[0][0]           \n",
            "                                                                 conv4_block6_3_bn[0][0]          \n",
            "__________________________________________________________________________________________________\n",
            "conv4_block6_out (Activation)   (None, 14, 14, 1024) 0           conv4_block6_add[0][0]           \n",
            "__________________________________________________________________________________________________\n",
            "conv5_block1_1_conv (Conv2D)    (None, 7, 7, 512)    524800      conv4_block6_out[0][0]           \n",
            "__________________________________________________________________________________________________\n",
            "conv5_block1_1_bn (BatchNormali (None, 7, 7, 512)    2048        conv5_block1_1_conv[0][0]        \n",
            "__________________________________________________________________________________________________\n",
            "conv5_block1_1_relu (Activation (None, 7, 7, 512)    0           conv5_block1_1_bn[0][0]          \n",
            "__________________________________________________________________________________________________\n",
            "conv5_block1_2_conv (Conv2D)    (None, 7, 7, 512)    2359808     conv5_block1_1_relu[0][0]        \n",
            "__________________________________________________________________________________________________\n",
            "conv5_block1_2_bn (BatchNormali (None, 7, 7, 512)    2048        conv5_block1_2_conv[0][0]        \n",
            "__________________________________________________________________________________________________\n",
            "conv5_block1_2_relu (Activation (None, 7, 7, 512)    0           conv5_block1_2_bn[0][0]          \n",
            "__________________________________________________________________________________________________\n",
            "conv5_block1_0_conv (Conv2D)    (None, 7, 7, 2048)   2099200     conv4_block6_out[0][0]           \n",
            "__________________________________________________________________________________________________\n",
            "conv5_block1_3_conv (Conv2D)    (None, 7, 7, 2048)   1050624     conv5_block1_2_relu[0][0]        \n",
            "__________________________________________________________________________________________________\n",
            "conv5_block1_0_bn (BatchNormali (None, 7, 7, 2048)   8192        conv5_block1_0_conv[0][0]        \n",
            "__________________________________________________________________________________________________\n",
            "conv5_block1_3_bn (BatchNormali (None, 7, 7, 2048)   8192        conv5_block1_3_conv[0][0]        \n",
            "__________________________________________________________________________________________________\n",
            "conv5_block1_add (Add)          (None, 7, 7, 2048)   0           conv5_block1_0_bn[0][0]          \n",
            "                                                                 conv5_block1_3_bn[0][0]          \n",
            "__________________________________________________________________________________________________\n",
            "conv5_block1_out (Activation)   (None, 7, 7, 2048)   0           conv5_block1_add[0][0]           \n",
            "__________________________________________________________________________________________________\n",
            "conv5_block2_1_conv (Conv2D)    (None, 7, 7, 512)    1049088     conv5_block1_out[0][0]           \n",
            "__________________________________________________________________________________________________\n",
            "conv5_block2_1_bn (BatchNormali (None, 7, 7, 512)    2048        conv5_block2_1_conv[0][0]        \n",
            "__________________________________________________________________________________________________\n",
            "conv5_block2_1_relu (Activation (None, 7, 7, 512)    0           conv5_block2_1_bn[0][0]          \n",
            "__________________________________________________________________________________________________\n",
            "conv5_block2_2_conv (Conv2D)    (None, 7, 7, 512)    2359808     conv5_block2_1_relu[0][0]        \n",
            "__________________________________________________________________________________________________\n",
            "conv5_block2_2_bn (BatchNormali (None, 7, 7, 512)    2048        conv5_block2_2_conv[0][0]        \n",
            "__________________________________________________________________________________________________\n",
            "conv5_block2_2_relu (Activation (None, 7, 7, 512)    0           conv5_block2_2_bn[0][0]          \n",
            "__________________________________________________________________________________________________\n",
            "conv5_block2_3_conv (Conv2D)    (None, 7, 7, 2048)   1050624     conv5_block2_2_relu[0][0]        \n",
            "__________________________________________________________________________________________________\n",
            "conv5_block2_3_bn (BatchNormali (None, 7, 7, 2048)   8192        conv5_block2_3_conv[0][0]        \n",
            "__________________________________________________________________________________________________\n",
            "conv5_block2_add (Add)          (None, 7, 7, 2048)   0           conv5_block1_out[0][0]           \n",
            "                                                                 conv5_block2_3_bn[0][0]          \n",
            "__________________________________________________________________________________________________\n",
            "conv5_block2_out (Activation)   (None, 7, 7, 2048)   0           conv5_block2_add[0][0]           \n",
            "__________________________________________________________________________________________________\n",
            "conv5_block3_1_conv (Conv2D)    (None, 7, 7, 512)    1049088     conv5_block2_out[0][0]           \n",
            "__________________________________________________________________________________________________\n",
            "conv5_block3_1_bn (BatchNormali (None, 7, 7, 512)    2048        conv5_block3_1_conv[0][0]        \n",
            "__________________________________________________________________________________________________\n",
            "conv5_block3_1_relu (Activation (None, 7, 7, 512)    0           conv5_block3_1_bn[0][0]          \n",
            "__________________________________________________________________________________________________\n",
            "conv5_block3_2_conv (Conv2D)    (None, 7, 7, 512)    2359808     conv5_block3_1_relu[0][0]        \n",
            "__________________________________________________________________________________________________\n",
            "conv5_block3_2_bn (BatchNormali (None, 7, 7, 512)    2048        conv5_block3_2_conv[0][0]        \n",
            "__________________________________________________________________________________________________\n",
            "conv5_block3_2_relu (Activation (None, 7, 7, 512)    0           conv5_block3_2_bn[0][0]          \n",
            "__________________________________________________________________________________________________\n",
            "conv5_block3_3_conv (Conv2D)    (None, 7, 7, 2048)   1050624     conv5_block3_2_relu[0][0]        \n",
            "__________________________________________________________________________________________________\n",
            "conv5_block3_3_bn (BatchNormali (None, 7, 7, 2048)   8192        conv5_block3_3_conv[0][0]        \n",
            "__________________________________________________________________________________________________\n",
            "conv5_block3_add (Add)          (None, 7, 7, 2048)   0           conv5_block2_out[0][0]           \n",
            "                                                                 conv5_block3_3_bn[0][0]          \n",
            "__________________________________________________________________________________________________\n",
            "conv5_block3_out (Activation)   (None, 7, 7, 2048)   0           conv5_block3_add[0][0]           \n",
            "__________________________________________________________________________________________________\n",
            "global_average_pooling2d_4 (Glo (None, 2048)         0           conv5_block3_out[0][0]           \n",
            "__________________________________________________________________________________________________\n",
            "flatten (Flatten)               (None, 2048)         0           global_average_pooling2d_4[0][0] \n",
            "__________________________________________________________________________________________________\n",
            "dense_3 (Dense)                 (None, 256)          524544      flatten[0][0]                    \n",
            "__________________________________________________________________________________________________\n",
            "dropout_2 (Dropout)             (None, 256)          0           dense_3[0][0]                    \n",
            "__________________________________________________________________________________________________\n",
            "dense_4 (Dense)                 (None, 8)            2056        dropout_2[0][0]                  \n",
            "==================================================================================================\n",
            "Total params: 24,114,312\n",
            "Trainable params: 526,600\n",
            "Non-trainable params: 23,587,712\n",
            "__________________________________________________________________________________________________\n"
          ],
          "name": "stdout"
        }
      ]
    }
  ]
}