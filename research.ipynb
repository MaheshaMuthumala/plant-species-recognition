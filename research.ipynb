{
  "nbformat": 4,
  "nbformat_minor": 0,
  "metadata": {
    "colab": {
      "name": "research.ipynb",
      "provenance": [],
      "collapsed_sections": []
    },
    "kernelspec": {
      "name": "python3",
      "display_name": "Python 3"
    }
  },
  "cells": [
    {
      "cell_type": "code",
      "metadata": {
        "colab": {
          "base_uri": "https://localhost:8080/"
        },
        "id": "06SfKVWF2o6a",
        "outputId": "37d78306-d12c-400b-d46b-e83f39179c93"
      },
      "source": [
        "from google.colab import drive\r\n",
        "drive.mount(\"/content/gdrive\")"
      ],
      "execution_count": null,
      "outputs": [
        {
          "output_type": "stream",
          "text": [
            "Mounted at /content/gdrive\n"
          ],
          "name": "stdout"
        }
      ]
    },
    {
      "cell_type": "code",
      "metadata": {
        "colab": {
          "base_uri": "https://localhost:8080/"
        },
        "id": "BLREk0tA3QLd",
        "outputId": "f11ec48c-82d2-4d75-bff8-a97b7e608506"
      },
      "source": [
        "PATH_OF_DATA = '/content/gdrive/MyDrive/images'\r\n",
        "!ls {PATH_OF_DATA}"
      ],
      "execution_count": null,
      "outputs": [
        {
          "output_type": "stream",
          "text": [
            "'Bitter gourd'\t'Ground nut'  'Mature tea tree'  'White Gigantic swallow wort'\n",
            " Capsicum\t Lime\t      'Mustard tree'\t  Wood-apple\n",
            " Chilli\t\t Maila\t      'Sickle Senna'\n"
          ],
          "name": "stdout"
        }
      ]
    },
    {
      "cell_type": "markdown",
      "metadata": {
        "id": "lAs-LA0v84eU"
      },
      "source": [
        "# **Preparing the data** "
      ]
    },
    {
      "cell_type": "code",
      "metadata": {
        "id": "Y3IX-KccLz5W"
      },
      "source": [
        "import numpy as np\r\n",
        "import os\r\n",
        "from matplotlib import pyplot as plt\r\n",
        "import cv2\r\n",
        "import random\r\n",
        "import pickle"
      ],
      "execution_count": null,
      "outputs": []
    },
    {
      "cell_type": "code",
      "metadata": {
        "id": "8CKDcElJMyN1"
      },
      "source": [
        "file_list = []\r\n",
        "class_list = []\r\n",
        "\r\n",
        "DATADIR = str(PATH_OF_DATA)"
      ],
      "execution_count": null,
      "outputs": []
    },
    {
      "cell_type": "code",
      "metadata": {
        "id": "Yvi154KSM8h1"
      },
      "source": [
        "CATEGORIES = [\"Bitter gourd\", \"Capsicum\", \"Chilli\", \"Ground nut\", \"Lime\", \"Maila\", \"Mature tea tree\", \"Mustard tree\", \"Sickle Senna\", \"White Gigantic swallow wort\", \"Wood-apple\"]"
      ],
      "execution_count": null,
      "outputs": []
    },
    {
      "cell_type": "code",
      "metadata": {
        "id": "nrC5hZwhNqAC"
      },
      "source": [
        "IMG_SIZE = 50"
      ],
      "execution_count": null,
      "outputs": []
    },
    {
      "cell_type": "code",
      "metadata": {
        "id": "T2VGsRPuNsBL"
      },
      "source": [
        "for category in CATEGORIES :\r\n",
        "\tpath = os.path.join(DATADIR, category)\r\n",
        "\tfor img in os.listdir(path):\r\n",
        "\t\timg_array = cv2.imread(os.path.join(path, img), cv2.IMREAD_GRAYSCALE)"
      ],
      "execution_count": null,
      "outputs": []
    },
    {
      "cell_type": "code",
      "metadata": {
        "id": "BcqisRZ7kKHL"
      },
      "source": [
        "training_data = []"
      ],
      "execution_count": null,
      "outputs": []
    },
    {
      "cell_type": "code",
      "metadata": {
        "id": "0KGMMl6xkWC5"
      },
      "source": [
        "def create_training_data():\r\n",
        "\tfor category in CATEGORIES :\r\n",
        "\t\tpath = os.path.join(DATADIR, category)\r\n",
        "\t\tclass_num = CATEGORIES.index(category)\r\n",
        "\t\tfor img in os.listdir(path):\r\n",
        "\t\t\ttry :\r\n",
        "\t\t\t\timg_array = cv2.imread(os.path.join(path, img), cv2.IMREAD_GRAYSCALE)\r\n",
        "\t\t\t\tnew_array = cv2.resize(img_array, (IMG_SIZE, IMG_SIZE))\r\n",
        "\t\t\t\ttraining_data.append([new_array, class_num])\r\n",
        "\t\t\texcept Exception as e:\r\n",
        "\t\t\t\tpass\r\n",
        "\r\n",
        "create_training_data()"
      ],
      "execution_count": null,
      "outputs": []
    },
    {
      "cell_type": "code",
      "metadata": {
        "id": "HXJT3agLkcrp"
      },
      "source": [
        "random.shuffle(training_data)"
      ],
      "execution_count": null,
      "outputs": []
    },
    {
      "cell_type": "code",
      "metadata": {
        "id": "iifUC6Y_smbS"
      },
      "source": [
        "X = [] #features\r\n",
        "y = [] #labels"
      ],
      "execution_count": null,
      "outputs": []
    },
    {
      "cell_type": "code",
      "metadata": {
        "id": "CWzDkRBotgCq"
      },
      "source": [
        "for features, label in training_data:\r\n",
        "\tX.append(features)\r\n",
        "\ty.append(label)"
      ],
      "execution_count": null,
      "outputs": []
    },
    {
      "cell_type": "code",
      "metadata": {
        "id": "RwOCr9AhtmsE"
      },
      "source": [
        "X = np.array(X).reshape(-1, IMG_SIZE, IMG_SIZE, 1)"
      ],
      "execution_count": null,
      "outputs": []
    },
    {
      "cell_type": "code",
      "metadata": {
        "id": "FTPbalQStwVc"
      },
      "source": [
        "pickle_out = open(\"X.pickle\", \"wb\")\r\n",
        "pickle.dump(X, pickle_out)\r\n",
        "pickle_out.close()\r\n",
        "\r\n",
        "pickle_out = open(\"y.pickle\", \"wb\")\r\n",
        "pickle.dump(y, pickle_out)\r\n",
        "pickle_out.close()\r\n",
        "\r\n",
        "pickle_in = open(\"X.pickle\", \"rb\")\r\n",
        "X = pickle.load(pickle_in)"
      ],
      "execution_count": null,
      "outputs": []
    },
    {
      "cell_type": "markdown",
      "metadata": {
        "id": "aUqZvgCDuJK0"
      },
      "source": [
        "# **Building the CNN**"
      ]
    },
    {
      "cell_type": "code",
      "metadata": {
        "id": "eHGX8vTBuNXh"
      },
      "source": [
        "import tensorflow as tf \r\n",
        "from tensorflow.keras.models import Sequential\r\n",
        "from tensorflow.keras.layers import Dense, Dropout, Activation, Flatten, Conv2D, MaxPooling2D\r\n",
        "import pickle\r\n",
        "from keras.models import model_from_json\r\n",
        "from keras.models import load_model\r\n",
        "import matplotlib.pyplot as plt"
      ],
      "execution_count": null,
      "outputs": []
    },
    {
      "cell_type": "code",
      "metadata": {
        "id": "APMYp8eIugrS"
      },
      "source": [
        "# Opening the files about data\r\n",
        "X = pickle.load(open(\"X.pickle\", \"rb\"))\r\n",
        "y = pickle.load(open(\"y.pickle\", \"rb\"))"
      ],
      "execution_count": null,
      "outputs": []
    },
    {
      "cell_type": "code",
      "metadata": {
        "id": "FiPZTSoruoab"
      },
      "source": [
        "# normalizing data (a pixel goes from 0 to 255)\r\n",
        "X = X/255.0"
      ],
      "execution_count": null,
      "outputs": []
    },
    {
      "cell_type": "code",
      "metadata": {
        "id": "_feR-ceYvhDM"
      },
      "source": [
        "from tensorflow.keras import layers"
      ],
      "execution_count": null,
      "outputs": []
    },
    {
      "cell_type": "code",
      "metadata": {
        "id": "KJ7D-OsVvqTG"
      },
      "source": [
        "resize_and_rescale = tf.keras.Sequential([\r\n",
        "  layers.experimental.preprocessing.Resizing(IMG_SIZE, IMG_SIZE),\r\n",
        "  layers.experimental.preprocessing.Rescaling(1./255)\r\n",
        "])"
      ],
      "execution_count": null,
      "outputs": []
    },
    {
      "cell_type": "code",
      "metadata": {
        "id": "jH98_BB8vw9V"
      },
      "source": [
        "data_augmentation = tf.keras.Sequential([\r\n",
        "  layers.experimental.preprocessing.RandomFlip(\"horizontal_and_vertical\"),\r\n",
        "  layers.experimental.preprocessing.RandomRotation(0.2),\r\n",
        "])"
      ],
      "execution_count": null,
      "outputs": []
    },
    {
      "cell_type": "code",
      "metadata": {
        "id": "y3JzN3o8wFtV"
      },
      "source": [
        "model = tf.keras.Sequential([resize_and_rescale, data_augmentation])"
      ],
      "execution_count": null,
      "outputs": []
    },
    {
      "cell_type": "code",
      "metadata": {
        "id": "Fori6z-gxCa3"
      },
      "source": [
        "# 3 convolutional layers\r\n",
        "model.add(Conv2D(32, (3, 3), input_shape = X.shape[1:]))\r\n",
        "model.add(Activation(\"relu\"))\r\n",
        "model.add(MaxPooling2D(pool_size=(2,2)))\r\n",
        "\r\n",
        "model.add(Conv2D(64, (3, 3)))\r\n",
        "model.add(Activation(\"relu\"))\r\n",
        "model.add(MaxPooling2D(pool_size=(2,2)))\r\n",
        "\r\n",
        "model.add(Conv2D(64, (3, 3)))\r\n",
        "model.add(Activation(\"relu\"))\r\n",
        "model.add(MaxPooling2D(pool_size=(2,2)))\r\n",
        "model.add(Dropout(0.25))"
      ],
      "execution_count": null,
      "outputs": []
    },
    {
      "cell_type": "code",
      "metadata": {
        "id": "02fRXcgyxE2h"
      },
      "source": [
        "# 2 hidden layers\r\n",
        "model.add(Flatten())\r\n",
        "model.add(Dense(128))\r\n",
        "model.add(Activation(\"relu\"))\r\n",
        "\r\n",
        "model.add(Dense(128))\r\n",
        "model.add(Activation(\"relu\"))"
      ],
      "execution_count": null,
      "outputs": []
    },
    {
      "cell_type": "code",
      "metadata": {
        "id": "ZHPHvfeXxSud"
      },
      "source": [
        "# The output layer with 11 neurons, for 11 classes\r\n",
        "model.add(Dense(11))\r\n",
        "model.add(Activation(\"softmax\"))"
      ],
      "execution_count": null,
      "outputs": []
    },
    {
      "cell_type": "code",
      "metadata": {
        "id": "6g8KtE-4xq3Y"
      },
      "source": [
        "model.compile(loss=\"sparse_categorical_crossentropy\", optimizer=\"adam\", metrics=[\"accuracy\"])"
      ],
      "execution_count": null,
      "outputs": []
    },
    {
      "cell_type": "code",
      "metadata": {
        "id": "l-Kx7poKyL1M",
        "colab": {
          "base_uri": "https://localhost:8080/"
        },
        "outputId": "d55c42a6-aefb-4aff-c1b2-df4ceb309406"
      },
      "source": [
        "IMG_SIZE = 50\r\n",
        "\r\n",
        "X = np.array(X).reshape(-1, IMG_SIZE, IMG_SIZE, 1)\r\n",
        "\r\n",
        "y = np.array(y)\r\n",
        "\r\n",
        "history = model.fit(X, y, batch_size=32, epochs=40, validation_split=0.1)"
      ],
      "execution_count": null,
      "outputs": [
        {
          "output_type": "stream",
          "text": [
            "Epoch 1/40\n",
            "2/2 [==============================] - 0s 87ms/step - loss: 2.4182 - accuracy: 0.0571 - val_loss: 2.4692 - val_accuracy: 0.0000e+00\n",
            "Epoch 2/40\n",
            "2/2 [==============================] - 0s 19ms/step - loss: 2.4138 - accuracy: 0.0571 - val_loss: 2.4656 - val_accuracy: 0.0000e+00\n",
            "Epoch 3/40\n",
            "2/2 [==============================] - 0s 19ms/step - loss: 2.4116 - accuracy: 0.0571 - val_loss: 2.4616 - val_accuracy: 0.0000e+00\n",
            "Epoch 4/40\n",
            "2/2 [==============================] - 0s 18ms/step - loss: 2.4098 - accuracy: 0.0571 - val_loss: 2.4598 - val_accuracy: 0.0000e+00\n",
            "Epoch 5/40\n",
            "2/2 [==============================] - 0s 19ms/step - loss: 2.4096 - accuracy: 0.0571 - val_loss: 2.4577 - val_accuracy: 0.0000e+00\n",
            "Epoch 6/40\n",
            "2/2 [==============================] - 0s 19ms/step - loss: 2.4088 - accuracy: 0.0571 - val_loss: 2.4555 - val_accuracy: 0.0000e+00\n",
            "Epoch 7/40\n",
            "2/2 [==============================] - 0s 20ms/step - loss: 2.4083 - accuracy: 0.0571 - val_loss: 2.4535 - val_accuracy: 0.0000e+00\n",
            "Epoch 8/40\n",
            "2/2 [==============================] - 0s 19ms/step - loss: 2.4075 - accuracy: 0.1143 - val_loss: 2.4510 - val_accuracy: 0.0000e+00\n",
            "Epoch 9/40\n",
            "2/2 [==============================] - 0s 20ms/step - loss: 2.4071 - accuracy: 0.1143 - val_loss: 2.4484 - val_accuracy: 0.0000e+00\n",
            "Epoch 10/40\n",
            "2/2 [==============================] - 0s 17ms/step - loss: 2.4063 - accuracy: 0.1143 - val_loss: 2.4466 - val_accuracy: 0.0000e+00\n",
            "Epoch 11/40\n",
            "2/2 [==============================] - 0s 18ms/step - loss: 2.4058 - accuracy: 0.1143 - val_loss: 2.4452 - val_accuracy: 0.0000e+00\n",
            "Epoch 12/40\n",
            "2/2 [==============================] - 0s 19ms/step - loss: 2.4050 - accuracy: 0.1143 - val_loss: 2.4442 - val_accuracy: 0.0000e+00\n",
            "Epoch 13/40\n",
            "2/2 [==============================] - 0s 19ms/step - loss: 2.4042 - accuracy: 0.1143 - val_loss: 2.4435 - val_accuracy: 0.0000e+00\n",
            "Epoch 14/40\n",
            "2/2 [==============================] - 0s 18ms/step - loss: 2.4038 - accuracy: 0.1143 - val_loss: 2.4432 - val_accuracy: 0.0000e+00\n",
            "Epoch 15/40\n",
            "2/2 [==============================] - 0s 21ms/step - loss: 2.4030 - accuracy: 0.1143 - val_loss: 2.4432 - val_accuracy: 0.0000e+00\n",
            "Epoch 16/40\n",
            "2/2 [==============================] - 0s 19ms/step - loss: 2.4025 - accuracy: 0.1143 - val_loss: 2.4430 - val_accuracy: 0.0000e+00\n",
            "Epoch 17/40\n",
            "2/2 [==============================] - 0s 18ms/step - loss: 2.4019 - accuracy: 0.1429 - val_loss: 2.4414 - val_accuracy: 0.0000e+00\n",
            "Epoch 18/40\n",
            "2/2 [==============================] - 0s 18ms/step - loss: 2.4011 - accuracy: 0.1429 - val_loss: 2.4382 - val_accuracy: 0.0000e+00\n",
            "Epoch 19/40\n",
            "2/2 [==============================] - 0s 19ms/step - loss: 2.4006 - accuracy: 0.1429 - val_loss: 2.4347 - val_accuracy: 0.0000e+00\n",
            "Epoch 20/40\n",
            "2/2 [==============================] - 0s 19ms/step - loss: 2.3998 - accuracy: 0.1429 - val_loss: 2.4316 - val_accuracy: 0.0000e+00\n",
            "Epoch 21/40\n",
            "2/2 [==============================] - 0s 21ms/step - loss: 2.3991 - accuracy: 0.1429 - val_loss: 2.4291 - val_accuracy: 0.0000e+00\n",
            "Epoch 22/40\n",
            "2/2 [==============================] - 0s 20ms/step - loss: 2.3983 - accuracy: 0.1429 - val_loss: 2.4267 - val_accuracy: 0.0000e+00\n",
            "Epoch 23/40\n",
            "2/2 [==============================] - 0s 20ms/step - loss: 2.3977 - accuracy: 0.1429 - val_loss: 2.4241 - val_accuracy: 0.0000e+00\n",
            "Epoch 24/40\n",
            "2/2 [==============================] - 0s 20ms/step - loss: 2.3968 - accuracy: 0.1429 - val_loss: 2.4214 - val_accuracy: 0.0000e+00\n",
            "Epoch 25/40\n",
            "2/2 [==============================] - 0s 19ms/step - loss: 2.3959 - accuracy: 0.1429 - val_loss: 2.4178 - val_accuracy: 0.0000e+00\n",
            "Epoch 26/40\n",
            "2/2 [==============================] - 0s 20ms/step - loss: 2.3951 - accuracy: 0.1429 - val_loss: 2.4139 - val_accuracy: 0.0000e+00\n",
            "Epoch 27/40\n",
            "2/2 [==============================] - 0s 19ms/step - loss: 2.3938 - accuracy: 0.1429 - val_loss: 2.4086 - val_accuracy: 0.0000e+00\n",
            "Epoch 28/40\n",
            "2/2 [==============================] - 0s 20ms/step - loss: 2.3934 - accuracy: 0.1429 - val_loss: 2.4044 - val_accuracy: 0.0000e+00\n",
            "Epoch 29/40\n",
            "2/2 [==============================] - 0s 20ms/step - loss: 2.3928 - accuracy: 0.1429 - val_loss: 2.4022 - val_accuracy: 0.0000e+00\n",
            "Epoch 30/40\n",
            "2/2 [==============================] - 0s 20ms/step - loss: 2.3917 - accuracy: 0.1429 - val_loss: 2.3982 - val_accuracy: 0.0000e+00\n",
            "Epoch 31/40\n",
            "2/2 [==============================] - 0s 19ms/step - loss: 2.3909 - accuracy: 0.1429 - val_loss: 2.3919 - val_accuracy: 0.0000e+00\n",
            "Epoch 32/40\n",
            "2/2 [==============================] - 0s 18ms/step - loss: 2.3894 - accuracy: 0.1429 - val_loss: 2.3821 - val_accuracy: 0.0000e+00\n",
            "Epoch 33/40\n",
            "2/2 [==============================] - 0s 19ms/step - loss: 2.3880 - accuracy: 0.1429 - val_loss: 2.3686 - val_accuracy: 0.0000e+00\n",
            "Epoch 34/40\n",
            "2/2 [==============================] - 0s 18ms/step - loss: 2.3842 - accuracy: 0.1429 - val_loss: 2.3426 - val_accuracy: 0.0000e+00\n",
            "Epoch 35/40\n",
            "2/2 [==============================] - 0s 20ms/step - loss: 2.3805 - accuracy: 0.1429 - val_loss: 2.3072 - val_accuracy: 0.0000e+00\n",
            "Epoch 36/40\n",
            "2/2 [==============================] - 0s 18ms/step - loss: 2.3749 - accuracy: 0.1429 - val_loss: 2.2743 - val_accuracy: 0.0000e+00\n",
            "Epoch 37/40\n",
            "2/2 [==============================] - 0s 18ms/step - loss: 2.3689 - accuracy: 0.1429 - val_loss: 2.2469 - val_accuracy: 0.0000e+00\n",
            "Epoch 38/40\n",
            "2/2 [==============================] - 0s 19ms/step - loss: 2.3690 - accuracy: 0.1429 - val_loss: 2.2390 - val_accuracy: 0.0000e+00\n",
            "Epoch 39/40\n",
            "2/2 [==============================] - 0s 19ms/step - loss: 2.3686 - accuracy: 0.1429 - val_loss: 2.2597 - val_accuracy: 0.0000e+00\n",
            "Epoch 40/40\n",
            "2/2 [==============================] - 0s 18ms/step - loss: 2.3635 - accuracy: 0.1429 - val_loss: 2.3179 - val_accuracy: 0.0000e+00\n"
          ],
          "name": "stdout"
        }
      ]
    },
    {
      "cell_type": "code",
      "metadata": {
        "id": "lwwLwUWT3Po3"
      },
      "source": [
        "# Saving the model\r\n",
        "model_json = model.to_json()\r\n",
        "with open(\"model.json\", \"w\") as json_file :\r\n",
        "\tjson_file.write(model_json)"
      ],
      "execution_count": null,
      "outputs": []
    },
    {
      "cell_type": "code",
      "metadata": {
        "colab": {
          "base_uri": "https://localhost:8080/"
        },
        "id": "VjrRuoYG3PJc",
        "outputId": "5ed55300-4bce-4c99-f42e-a587cc3c3836"
      },
      "source": [
        "model.save_weights(\"model.h5\")\r\n",
        "print(\"Saved model to disk\")"
      ],
      "execution_count": null,
      "outputs": [
        {
          "output_type": "stream",
          "text": [
            "Saved model to disk\n"
          ],
          "name": "stdout"
        }
      ]
    },
    {
      "cell_type": "code",
      "metadata": {
        "colab": {
          "base_uri": "https://localhost:8080/"
        },
        "id": "p9SQcACJ3dDZ",
        "outputId": "11038d50-3738-41b9-feb8-75d59372e4db"
      },
      "source": [
        "model.save('CNN.model')"
      ],
      "execution_count": null,
      "outputs": [
        {
          "output_type": "stream",
          "text": [
            "INFO:tensorflow:Assets written to: CNN.model/assets\n"
          ],
          "name": "stdout"
        }
      ]
    },
    {
      "cell_type": "code",
      "metadata": {
        "colab": {
          "base_uri": "https://localhost:8080/",
          "height": 329
        },
        "id": "LjOz-OStrgJd",
        "outputId": "7ab639e0-6c38-4d0c-bafa-409269c340a3"
      },
      "source": [
        "# Printing a graph showing the accuracy changes during the training phase\r\n",
        "print(history.history.keys())\r\n",
        "plt.figure(1)\r\n",
        "plt.plot(history.history['accuracy'])\r\n",
        "plt.plot(history.history['val_accuracy'])\r\n",
        "plt.title('model accuracy')\r\n",
        "plt.ylabel('accuracy')\r\n",
        "plt.xlabel('epoch')\r\n",
        "plt.legend(['train', 'validation'], loc='upper left')"
      ],
      "execution_count": null,
      "outputs": [
        {
          "output_type": "stream",
          "text": [
            "dict_keys(['loss', 'accuracy', 'val_loss', 'val_accuracy'])\n"
          ],
          "name": "stdout"
        },
        {
          "output_type": "execute_result",
          "data": {
            "text/plain": [
              "<matplotlib.legend.Legend at 0x7f311be5d160>"
            ]
          },
          "metadata": {
            "tags": []
          },
          "execution_count": 42
        },
        {
          "output_type": "display_data",
          "data": {
            "image/png": "[encoded data removed]",
            "text/plain": [
              "<Figure size 432x288 with 1 Axes>"
            ]
          },
          "metadata": {
            "tags": [],
            "needs_background": "light"
          }
        }
      ]
    }
  ]
}